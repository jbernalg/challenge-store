{
  "cells": [
    {
      "cell_type": "markdown",
      "metadata": {
        "id": "RhEdWd9YUR6H"
      },
      "source": [
        "### Importación de datos\n",
        "\n"
      ]
    },
    {
      "cell_type": "code",
      "execution_count": 1,
      "metadata": {
        "colab": {
          "base_uri": "https://localhost:8080/",
          "height": 206
        },
        "id": "T3EvaeQ_INIL",
        "outputId": "e9c5efe1-82a3-43ab-e8d7-6d01e4fa3514"
      },
      "outputs": [
        {
          "data": {
            "text/html": [
              "<div>\n",
              "<style scoped>\n",
              "    .dataframe tbody tr th:only-of-type {\n",
              "        vertical-align: middle;\n",
              "    }\n",
              "\n",
              "    .dataframe tbody tr th {\n",
              "        vertical-align: top;\n",
              "    }\n",
              "\n",
              "    .dataframe thead th {\n",
              "        text-align: right;\n",
              "    }\n",
              "</style>\n",
              "<table border=\"1\" class=\"dataframe\">\n",
              "  <thead>\n",
              "    <tr style=\"text-align: right;\">\n",
              "      <th></th>\n",
              "      <th>Producto</th>\n",
              "      <th>Categoría del Producto</th>\n",
              "      <th>Precio</th>\n",
              "      <th>Costo de envío</th>\n",
              "      <th>Fecha de Compra</th>\n",
              "      <th>Vendedor</th>\n",
              "      <th>Lugar de Compra</th>\n",
              "      <th>Calificación</th>\n",
              "      <th>Método de pago</th>\n",
              "      <th>Cantidad de cuotas</th>\n",
              "      <th>lat</th>\n",
              "      <th>lon</th>\n",
              "    </tr>\n",
              "  </thead>\n",
              "  <tbody>\n",
              "    <tr>\n",
              "      <th>0</th>\n",
              "      <td>Asistente virtual</td>\n",
              "      <td>Electrónicos</td>\n",
              "      <td>164300.0</td>\n",
              "      <td>6900.0</td>\n",
              "      <td>16/01/2021</td>\n",
              "      <td>Pedro Gomez</td>\n",
              "      <td>Bogotá</td>\n",
              "      <td>4</td>\n",
              "      <td>Tarjeta de crédito</td>\n",
              "      <td>8</td>\n",
              "      <td>4.60971</td>\n",
              "      <td>-74.08175</td>\n",
              "    </tr>\n",
              "    <tr>\n",
              "      <th>1</th>\n",
              "      <td>Mesa de comedor</td>\n",
              "      <td>Muebles</td>\n",
              "      <td>192300.0</td>\n",
              "      <td>8400.0</td>\n",
              "      <td>18/05/2022</td>\n",
              "      <td>Beatriz Morales</td>\n",
              "      <td>Medellín</td>\n",
              "      <td>1</td>\n",
              "      <td>Tarjeta de crédito</td>\n",
              "      <td>4</td>\n",
              "      <td>6.25184</td>\n",
              "      <td>-75.56359</td>\n",
              "    </tr>\n",
              "    <tr>\n",
              "      <th>2</th>\n",
              "      <td>Juego de mesa</td>\n",
              "      <td>Juguetes</td>\n",
              "      <td>209600.0</td>\n",
              "      <td>15900.0</td>\n",
              "      <td>15/03/2021</td>\n",
              "      <td>Juan Fernandez</td>\n",
              "      <td>Cartagena</td>\n",
              "      <td>1</td>\n",
              "      <td>Tarjeta de crédito</td>\n",
              "      <td>1</td>\n",
              "      <td>10.39972</td>\n",
              "      <td>-75.51444</td>\n",
              "    </tr>\n",
              "    <tr>\n",
              "      <th>3</th>\n",
              "      <td>Microondas</td>\n",
              "      <td>Electrodomésticos</td>\n",
              "      <td>757500.0</td>\n",
              "      <td>41000.0</td>\n",
              "      <td>03/05/2022</td>\n",
              "      <td>Juan Fernandez</td>\n",
              "      <td>Cali</td>\n",
              "      <td>4</td>\n",
              "      <td>Nequi</td>\n",
              "      <td>1</td>\n",
              "      <td>3.43722</td>\n",
              "      <td>-76.52250</td>\n",
              "    </tr>\n",
              "    <tr>\n",
              "      <th>4</th>\n",
              "      <td>Silla de oficina</td>\n",
              "      <td>Muebles</td>\n",
              "      <td>335200.0</td>\n",
              "      <td>20200.0</td>\n",
              "      <td>07/11/2020</td>\n",
              "      <td>Maria Alfonso</td>\n",
              "      <td>Medellín</td>\n",
              "      <td>5</td>\n",
              "      <td>Nequi</td>\n",
              "      <td>1</td>\n",
              "      <td>6.25184</td>\n",
              "      <td>-75.56359</td>\n",
              "    </tr>\n",
              "  </tbody>\n",
              "</table>\n",
              "</div>"
            ],
            "text/plain": [
              "            Producto Categoría del Producto    Precio  Costo de envío  \\\n",
              "0  Asistente virtual           Electrónicos  164300.0          6900.0   \n",
              "1    Mesa de comedor                Muebles  192300.0          8400.0   \n",
              "2      Juego de mesa               Juguetes  209600.0         15900.0   \n",
              "3         Microondas      Electrodomésticos  757500.0         41000.0   \n",
              "4   Silla de oficina                Muebles  335200.0         20200.0   \n",
              "\n",
              "  Fecha de Compra         Vendedor Lugar de Compra  Calificación  \\\n",
              "0      16/01/2021      Pedro Gomez          Bogotá             4   \n",
              "1      18/05/2022  Beatriz Morales        Medellín             1   \n",
              "2      15/03/2021   Juan Fernandez       Cartagena             1   \n",
              "3      03/05/2022   Juan Fernandez            Cali             4   \n",
              "4      07/11/2020    Maria Alfonso        Medellín             5   \n",
              "\n",
              "       Método de pago  Cantidad de cuotas       lat       lon  \n",
              "0  Tarjeta de crédito                   8   4.60971 -74.08175  \n",
              "1  Tarjeta de crédito                   4   6.25184 -75.56359  \n",
              "2  Tarjeta de crédito                   1  10.39972 -75.51444  \n",
              "3               Nequi                   1   3.43722 -76.52250  \n",
              "4               Nequi                   1   6.25184 -75.56359  "
            ]
          },
          "execution_count": 1,
          "metadata": {},
          "output_type": "execute_result"
        }
      ],
      "source": [
        "import pandas as pd\n",
        "\n",
        "url = \"https://raw.githubusercontent.com/alura-es-cursos/challenge1-data-science-latam/refs/heads/main/base-de-datos-challenge1-latam/tienda_1%20.csv\"\n",
        "url2 = \"https://raw.githubusercontent.com/alura-es-cursos/challenge1-data-science-latam/refs/heads/main/base-de-datos-challenge1-latam/tienda_2.csv\"\n",
        "url3 = \"https://raw.githubusercontent.com/alura-es-cursos/challenge1-data-science-latam/refs/heads/main/base-de-datos-challenge1-latam/tienda_3.csv\"\n",
        "url4 = \"https://raw.githubusercontent.com/alura-es-cursos/challenge1-data-science-latam/refs/heads/main/base-de-datos-challenge1-latam/tienda_4.csv\"\n",
        "\n",
        "tienda = pd.read_csv(url)\n",
        "tienda2 = pd.read_csv(url2)\n",
        "tienda3 = pd.read_csv(url3)\n",
        "tienda4 = pd.read_csv(url4)\n",
        "\n",
        "tienda.head()"
      ]
    },
    {
      "cell_type": "code",
      "execution_count": 3,
      "metadata": {},
      "outputs": [
        {
          "data": {
            "text/plain": [
              "(2359, 12)"
            ]
          },
          "execution_count": 3,
          "metadata": {},
          "output_type": "execute_result"
        }
      ],
      "source": [
        "tienda.shape"
      ]
    },
    {
      "cell_type": "markdown",
      "metadata": {
        "id": "X62IW3KFUIYm"
      },
      "source": [
        "# 1. Análisis de facturación"
      ]
    },
    {
      "cell_type": "markdown",
      "metadata": {},
      "source": [
        "## 1.1 Ingreso total por tienda"
      ]
    },
    {
      "cell_type": "code",
      "execution_count": 5,
      "metadata": {
        "id": "xykobSftV64I"
      },
      "outputs": [
        {
          "data": {
            "text/plain": [
              "1150880400.0"
            ]
          },
          "execution_count": 5,
          "metadata": {},
          "output_type": "execute_result"
        }
      ],
      "source": [
        "ingreso_total_T1 = tienda.Precio.sum()\n",
        "ingreso_total_T1"
      ]
    },
    {
      "cell_type": "code",
      "execution_count": 6,
      "metadata": {
        "id": "KDyr8E71V3m-"
      },
      "outputs": [
        {
          "data": {
            "text/plain": [
              "1116343500.0"
            ]
          },
          "execution_count": 6,
          "metadata": {},
          "output_type": "execute_result"
        }
      ],
      "source": [
        "ingreso_total_T2 = tienda2.Precio.sum()\n",
        "ingreso_total_T2"
      ]
    },
    {
      "cell_type": "code",
      "execution_count": 7,
      "metadata": {},
      "outputs": [
        {
          "data": {
            "text/plain": [
              "1098019600.0"
            ]
          },
          "execution_count": 7,
          "metadata": {},
          "output_type": "execute_result"
        }
      ],
      "source": [
        "ingreso_total_T3 = tienda3.Precio.sum()\n",
        "ingreso_total_T3"
      ]
    },
    {
      "cell_type": "code",
      "execution_count": 8,
      "metadata": {},
      "outputs": [
        {
          "data": {
            "text/plain": [
              "1038375700.0"
            ]
          },
          "execution_count": 8,
          "metadata": {},
          "output_type": "execute_result"
        }
      ],
      "source": [
        "ingreso_total_T4 = tienda4.Precio.sum()\n",
        "ingreso_total_T4"
      ]
    },
    {
      "cell_type": "markdown",
      "metadata": {},
      "source": [
        "> La tienda 4 es la que menos ingresos ha tenido"
      ]
    },
    {
      "cell_type": "markdown",
      "metadata": {
        "id": "2V_vcAPzWZmR"
      },
      "source": [
        "# 2. Ventas por categoría"
      ]
    },
    {
      "cell_type": "code",
      "execution_count": 9,
      "metadata": {
        "id": "A34YupIuYhfF"
      },
      "outputs": [
        {
          "data": {
            "text/plain": [
              "array(['Electrónicos', 'Muebles', 'Juguetes', 'Electrodomésticos',\n",
              "       'Artículos para el hogar', 'Deportes y diversión', 'Libros',\n",
              "       'Instrumentos musicales'], dtype=object)"
            ]
          },
          "execution_count": 9,
          "metadata": {},
          "output_type": "execute_result"
        }
      ],
      "source": [
        "tienda['Categoría del Producto'].unique()"
      ]
    },
    {
      "cell_type": "code",
      "execution_count": null,
      "metadata": {
        "id": "yZR6cOjXYSk1"
      },
      "outputs": [
        {
          "data": {
            "text/plain": [
              "'ElectrónicosMueblesJuguetesElectrodomésticosMueblesJuguetesJuguetesElectrodomésticosElectrodomésticosJuguetesElectrodomésticosElectrodomésticosElectrónicosArtículos para el hogarDeportes y diversiónLibrosDeportes y diversiónJuguetesElectrónicosJuguetesElectrodomésticosDeportes y diversiónDeportes y diversiónMueblesLibrosArtículos para el hogarArtículos para el hogarInstrumentos musicalesDeportes y diversiónJuguetesElectrodomésticosJuguetesMueblesDeportes y diversiónJuguetesDeportes y diversiónElectrónicosMueblesLibrosMueblesElectrónicosMueblesJuguetesElectrodomésticosJuguetesDeportes y diversiónInstrumentos musicalesArtículos para el hogarElectrodomésticosMueblesElectrónicosMueblesElectrónicosInstrumentos musicalesJuguetesArtículos para el hogarElectrónicosElectrodomésticosElectrónicosJuguetesDeportes y diversiónMueblesElectrónicosLibrosMueblesElectrónicosElectrodomésticosLibrosMueblesElectrodomésticosDeportes y diversiónElectrónicosDeportes y diversiónMueblesMueblesElectrónicosElectrónicosJuguetesInstrumentos musicalesElectrónicosMueblesMueblesJuguetesElectrónicosDeportes y diversiónJuguetesArtículos para el hogarMueblesMueblesDeportes y diversiónJuguetesElectrónicosInstrumentos musicalesMueblesLibrosElectrodomésticosArtículos para el hogarMueblesDeportes y diversiónArtículos para el hogarLibrosDeportes y diversiónJuguetesLibrosElectrónicosElectrodomésticosElectrónicosJuguetesMueblesDeportes y diversiónElectrónicosLibrosDeportes y diversiónElectrónicosElectrodomésticosElectrodomésticosLibrosJuguetesElectrónicosElectrodomésticosMueblesElectrodomésticosArtículos para el hogarDeportes y diversiónMueblesLibrosElectrodomésticosElectrónicosInstrumentos musicalesElectrónicosArtículos para el hogarElectrodomésticosMueblesLibrosElectrónicosLibrosMueblesMueblesElectrónicosElectrónicosArtículos para el hogarInstrumentos musicalesJuguetesDeportes y diversiónElectrónicosElectrónicosJuguetesMueblesJuguetesJuguetesArtículos para el hogarMueblesArtículos para el hogarInstrumentos musicalesJuguetesJuguetesMueblesJuguetesMueblesMueblesElectrodomésticosDeportes y diversiónArtículos para el hogarDeportes y diversiónMueblesMueblesMueblesDeportes y diversiónArtículos para el hogarLibrosDeportes y diversiónMueblesMueblesElectrónicosArtículos para el hogarMueblesJuguetesDeportes y diversiónArtículos para el hogarArtículos para el hogarElectrodomésticosElectrónicosElectrodomésticosJuguetesJuguetesMueblesMueblesDeportes y diversiónArtículos para el hogarLibrosArtículos para el hogarMueblesDeportes y diversiónMueblesJuguetesMueblesJuguetesMueblesElectrónicosJuguetesJuguetesInstrumentos musicalesMueblesJuguetesInstrumentos musicalesArtículos para el hogarMueblesElectrodomésticosJuguetesInstrumentos musicalesInstrumentos musicalesInstrumentos musicalesDeportes y diversiónElectrónicosElectrodomésticosElectrónicosElectrónicosElectrónicosJuguetesArtículos para el hogarMueblesElectrodomésticosElectrónicosMueblesLibrosArtículos para el hogarMueblesLibrosElectrodomésticosDeportes y diversiónMueblesElectrónicosJuguetesMueblesInstrumentos musicalesDeportes y diversiónLibrosElectrodomésticosMueblesElectrónicosMueblesDeportes y diversiónElectrodomésticosInstrumentos musicalesJuguetesMueblesLibrosMueblesArtículos para el hogarElectrodomésticosMueblesInstrumentos musicalesJuguetesMueblesArtículos para el hogarElectrónicosMueblesJuguetesMueblesJuguetesDeportes y diversiónInstrumentos musicalesElectrónicosLibrosElectrónicosElectrónicosInstrumentos musicalesMueblesMueblesDeportes y diversiónElectrodomésticosElectrónicosElectrodomésticosElectrodomésticosElectrónicosElectrónicosArtículos para el hogarMueblesElectrónicosElectrónicosInstrumentos musicalesElectrónicosElectrónicosJuguetesInstrumentos musicalesMueblesElectrónicosElectrodomésticosElectrónicosArtículos para el hogarMueblesArtículos para el hogarArtículos para el hogarInstrumentos musicalesLibrosMueblesMueblesMueblesArtículos para el hogarDeportes y diversiónMueblesMueblesMueblesElectrónicosArtículos para el hogarLibrosElectrónicosMueblesArtículos para el hogarJuguetesElectrónicosDeportes y diversiónMueblesArtículos para el hogarArtículos para el hogarJuguetesElectrodomésticosMueblesLibrosElectrodomésticosMueblesMueblesJuguetesDeportes y diversiónElectrónicosLibrosInstrumentos musicalesElectrónicosMueblesLibrosInstrumentos musicalesDeportes y diversiónJuguetesElectrónicosJuguetesInstrumentos musicalesElectrónicosElectrodomésticosDeportes y diversiónMueblesElectrónicosElectrónicosElectrodomésticosJuguetesInstrumentos musicalesArtículos para el hogarElectrónicosDeportes y diversiónLibrosArtículos para el hogarInstrumentos musicalesMueblesElectrónicosJuguetesInstrumentos musicalesElectrodomésticosMueblesElectrónicosMueblesJuguetesElectrónicosElectrodomésticosElectrodomésticosElectrodomésticosDeportes y diversiónArtículos para el hogarElectrónicosElectrónicosDeportes y diversiónJuguetesLibrosDeportes y diversiónMueblesDeportes y diversiónElectrodomésticosLibrosJuguetesMueblesElectrodomésticosDeportes y diversiónJuguetesLibrosMueblesMueblesJuguetesElectrodomésticosMueblesMueblesMueblesJuguetesDeportes y diversiónDeportes y diversiónJuguetesMueblesJuguetesJuguetesElectrodomésticosDeportes y diversiónDeportes y diversiónArtículos para el hogarMueblesMueblesMueblesDeportes y diversiónElectrodomésticosJuguetesElectrónicosMueblesJuguetesElectrónicosLibrosMueblesElectrónicosJuguetesMueblesInstrumentos musicalesMueblesJuguetesJuguetesMueblesMueblesJuguetesDeportes y diversiónDeportes y diversiónElectrónicosArtículos para el hogarElectrónicosMueblesInstrumentos musicalesMueblesElectrónicosLibrosDeportes y diversiónElectrodomésticosJuguetesInstrumentos musicalesDeportes y diversiónLibrosMueblesDeportes y diversiónArtículos para el hogarElectrónicosArtículos para el hogarDeportes y diversiónLibrosElectrónicosInstrumentos musicalesJuguetesElectrónicosLibrosDeportes y diversiónMueblesJuguetesArtículos para el hogarDeportes y diversiónJuguetesMueblesElectrónicosDeportes y diversiónMueblesJuguetesJuguetesLibrosElectrónicosArtículos para el hogarMueblesElectrodomésticosElectrodomésticosMueblesElectrodomésticosElectrodomésticosElectrónicosElectrodomésticosLibrosArtículos para el hogarJuguetesElectrónicosElectrónicosElectrónicosMueblesDeportes y diversiónMueblesArtículos para el hogarJuguetesLibrosElectrónicosDeportes y diversiónInstrumentos musicalesMueblesMueblesElectrodomésticosMueblesJuguetesDeportes y diversiónInstrumentos musicalesLibrosDeportes y diversiónElectrónicosMueblesJuguetesJuguetesJuguetesMueblesElectrónicosElectrónicosElectrónicosElectrónicosJuguetesMueblesElectrodomésticosLibrosMueblesDeportes y diversiónMueblesMueblesMueblesDeportes y diversiónJuguetesMueblesMueblesElectrodomésticosArtículos para el hogarJuguetesDeportes y diversiónMueblesDeportes y diversiónElectrodomésticosElectrodomésticosArtículos para el hogarJuguetesJuguetesMueblesElectrónicosMueblesLibrosJuguetesDeportes y diversiónElectrónicosMueblesMueblesElectrónicosJuguetesLibrosArtículos para el hogarInstrumentos musicalesInstrumentos musicalesElectrodomésticosDeportes y diversiónDeportes y diversiónElectrónicosElectrodomésticosInstrumentos musicalesArtículos para el hogarElectrodomésticosElectrónicosInstrumentos musicalesJuguetesMueblesMueblesJuguetesElectrodomésticosElectrodomésticosJuguetesElectrodomésticosMueblesElectrónicosElectrónicosMueblesElectrónicosElectrodomésticosJuguetesJuguetesDeportes y diversiónElectrodomésticosDeportes y diversiónArtículos para el hogarInstrumentos musicalesElectrodomésticosDeportes y diversiónJuguetesLibrosArtículos para el hogarElectrodomésticosArtículos para el hogarMueblesLibrosInstrumentos musicalesDeportes y diversiónElectrodomésticosElectrodomésticosArtículos para el hogarElectrodomésticosLibrosMueblesDeportes y diversiónMueblesArtículos para el hogarElectrodomésticosElectrónicosArtículos para el hogarInstrumentos musicalesElectrónicosDeportes y diversiónDeportes y diversiónDeportes y diversiónElectrodomésticosElectrónicosElectrodomésticosMueblesDeportes y diversiónArtículos para el hogarJuguetesInstrumentos musicalesInstrumentos musicalesDeportes y diversiónElectrodomésticosMueblesArtículos para el hogarMueblesElectrodomésticosElectrónicosElectrodomésticosElectrónicosLibrosArtículos para el hogarElectrónicosDeportes y diversiónElectrónicosInstrumentos musicalesDeportes y diversiónElectrónicosElectrónicosLibrosElectrónicosMueblesElectrodomésticosMueblesMueblesDeportes y diversiónElectrodomésticosElectrónicosDeportes y diversiónElectrodomésticosElectrodomésticosMueblesDeportes y diversiónElectrónicosElectrónicosInstrumentos musicalesLibrosElectrodomésticosJuguetesElectrodomésticosJuguetesJuguetesMueblesDeportes y diversiónMueblesArtículos para el hogarMueblesElectrónicosMueblesInstrumentos musicalesArtículos para el hogarDeportes y diversiónMueblesElectrónicosMueblesDeportes y diversiónElectrónicosLibrosJuguetesMueblesElectrónicosMueblesJuguetesElectrodomésticosElectrodomésticosDeportes y diversiónInstrumentos musicalesDeportes y diversiónMueblesLibrosInstrumentos musicalesMueblesLibrosDeportes y diversiónJuguetesLibrosElectrodomésticosMueblesJuguetesMueblesLibrosInstrumentos musicalesInstrumentos musicalesInstrumentos musicalesElectrodomésticosDeportes y diversiónElectrónicosElectrónicosElectrodomésticosJuguetesElectrónicosElectrónicosJuguetesLibrosLibrosMueblesMueblesElectrónicosElectrónicosMueblesElectrónicosElectrodomésticosInstrumentos musicalesElectrodomésticosJuguetesElectrónicosLibrosElectrónicosDeportes y diversiónJuguetesArtículos para el hogarElectrodomésticosMueblesElectrodomésticosElectrodomésticosInstrumentos musicalesJuguetesElectrónicosJuguetesJuguetesDeportes y diversiónElectrónicosLibrosLibrosElectrodomésticosElectrónicosInstrumentos musicalesInstrumentos musicalesInstrumentos musicalesJuguetesInstrumentos musicalesElectrónicosMueblesElectrónicosInstrumentos musicalesJuguetesJuguetesElectrónicosElectrodomésticosMueblesElectrodomésticosMueblesElectrodomésticosDeportes y diversiónMueblesMueblesArtículos para el hogarJuguetesJuguetesJuguetesElectrodomésticosJuguetesJuguetesElectrónicosDeportes y diversiónElectrónicosMueblesJuguetesJuguetesMueblesDeportes y diversiónElectrodomésticosElectrónicosJuguetesJuguetesElectrodomésticosElectrónicosDeportes y diversiónArtículos para el hogarElectrónicosInstrumentos musicalesMueblesMueblesElectrónicosElectrónicosJuguetesElectrodomésticosJuguetesElectrónicosElectrodomésticosElectrónicosElectrónicosMueblesElectrónicosJuguetesElectrónicosMueblesMueblesInstrumentos musicalesElectrónicosElectrodomésticosMueblesMueblesElectrodomésticosMueblesMueblesElectrónicosDeportes y diversiónElectrónicosDeportes y diversiónJuguetesMueblesLibrosInstrumentos musicalesElectrodomésticosMueblesJuguetesElectrónicosDeportes y diversiónElectrónicosJuguetesJuguetesJuguetesLibrosLibrosElectrónicosElectrónicosInstrumentos musicalesMueblesDeportes y diversiónElectrodomésticosMueblesMueblesDeportes y diversiónJuguetesElectrónicosMueblesMueblesLibrosMueblesElectrodomésticosInstrumentos musicalesElectrodomésticosLibrosMueblesDeportes y diversiónElectrónicosArtículos para el hogarMueblesJuguetesMueblesArtículos para el hogarJuguetesMueblesElectrónicosArtículos para el hogarMueblesElectrodomésticosArtículos para el hogarJuguetesLibrosDeportes y diversiónMueblesDeportes y diversiónElectrónicosElectrodomésticosLibrosInstrumentos musicalesInstrumentos musicalesMueblesMueblesElectrodomésticosElectrónicosElectrónicosMueblesDeportes y diversiónJuguetesMueblesInstrumentos musicalesMueblesJuguetesDeportes y diversiónElectrodomésticosInstrumentos musicalesElectrodomésticosElectrodomésticosArtículos para el hogarElectrónicosElectrónicosJuguetesJuguetesJuguetesElectrónicosElectrodomésticosElectrónicosElectrónicosElectrónicosArtículos para el hogarElectrodomésticosJuguetesJuguetesElectrodomésticosArtículos para el hogarMueblesElectrodomésticosElectrónicosMueblesElectrónicosJuguetesDeportes y diversiónArtículos para el hogarDeportes y diversiónElectrónicosJuguetesMueblesInstrumentos musicalesInstrumentos musicalesLibrosDeportes y diversiónDeportes y diversiónMueblesDeportes y diversiónInstrumentos musicalesJuguetesMueblesElectrodomésticosDeportes y diversiónArtículos para el hogarLibrosElectrodomésticosMueblesDeportes y diversiónDeportes y diversiónArtículos para el hogarJuguetesJuguetesInstrumentos musicalesElectrónicosArtículos para el hogarMueblesElectrónicosElectrónicosMueblesArtículos para el hogarJuguetesInstrumentos musicalesJuguetesLibrosMueblesMueblesInstrumentos musicalesElectrónicosMueblesElectrodomésticosMueblesJuguetesMueblesDeportes y diversiónJuguetesElectrónicosMueblesMueblesJuguetesElectrónicosInstrumentos musicalesJuguetesMueblesMueblesElectrónicosJuguetesElectrónicosMueblesMueblesElectrónicosLibrosElectrónicosDeportes y diversiónMueblesJuguetesMueblesElectrodomésticosJuguetesDeportes y diversiónJuguetesArtículos para el hogarElectrónicosInstrumentos musicalesJuguetesJuguetesInstrumentos musicalesJuguetesElectrodomésticosDeportes y diversiónLibrosArtículos para el hogarDeportes y diversiónElectrodomésticosJuguetesElectrodomésticosLibrosElectrónicosArtículos para el hogarJuguetesElectrónicosElectrónicosDeportes y diversiónElectrónicosDeportes y diversiónElectrodomésticosDeportes y diversiónMueblesArtículos para el hogarDeportes y diversiónElectrodomésticosElectrónicosJuguetesElectrodomésticosElectrónicosArtículos para el hogarElectrodomésticosDeportes y diversiónMueblesElectrodomésticosMueblesElectrodomésticosLibrosArtículos para el hogarMueblesLibrosElectrónicosElectrodomésticosMueblesMueblesJuguetesInstrumentos musicalesInstrumentos musicalesMueblesMueblesElectrodomésticosMueblesInstrumentos musicalesInstrumentos musicalesJuguetesArtículos para el hogarLibrosElectrodomésticosInstrumentos musicalesElectrodomésticosElectrónicosArtículos para el hogarElectrónicosElectrónicosDeportes y diversiónElectrónicosElectrodomésticosJuguetesElectrónicosInstrumentos musicalesArtículos para el hogarJuguetesJuguetesJuguetesElectrónicosElectrodomésticosMueblesMueblesElectrodomésticosElectrónicosDeportes y diversiónDeportes y diversiónInstrumentos musicalesMueblesElectrodomésticosDeportes y diversiónLibrosMueblesJuguetesMueblesJuguetesElectrodomésticosElectrónicosMueblesElectrónicosElectrónicosLibrosElectrónicosJuguetesElectrodomésticosInstrumentos musicalesElectrónicosElectrónicosElectrónicosJuguetesElectrodomésticosInstrumentos musicalesDeportes y diversiónElectrónicosDeportes y diversiónMueblesMueblesElectrónicosLibrosElectrónicosJuguetesArtículos para el hogarInstrumentos musicalesArtículos para el hogarMueblesMueblesElectrónicosElectrodomésticosDeportes y diversiónMueblesMueblesInstrumentos musicalesDeportes y diversiónElectrodomésticosJuguetesElectrónicosElectrodomésticosDeportes y diversiónElectrodomésticosArtículos para el hogarElectrónicosMueblesJuguetesMueblesInstrumentos musicalesDeportes y diversiónDeportes y diversiónElectrodomésticosElectrodomésticosDeportes y diversiónElectrodomésticosElectrodomésticosMueblesDeportes y diversiónJuguetesElectrodomésticosArtículos para el hogarDeportes y diversiónElectrónicosArtículos para el hogarDeportes y diversiónLibrosJuguetesArtículos para el hogarLibrosMueblesDeportes y diversiónElectrodomésticosElectrónicosMueblesArtículos para el hogarMueblesDeportes y diversiónLibrosElectrodomésticosMueblesInstrumentos musicalesMueblesJuguetesElectrónicosElectrónicosMueblesDeportes y diversiónElectrónicosInstrumentos musicalesMueblesJuguetesJuguetesArtículos para el hogarMueblesArtículos para el hogarElectrónicosInstrumentos musicalesElectrónicosElectrónicosJuguetesMueblesElectrónicosElectrónicosMueblesArtículos para el hogarElectrónicosMueblesJuguetesLibrosDeportes y diversiónMueblesDeportes y diversiónElectrodomésticosJuguetesMueblesMueblesInstrumentos musicalesDeportes y diversiónJuguetesElectrónicosDeportes y diversiónElectrónicosMueblesDeportes y diversiónDeportes y diversiónArtículos para el hogarElectrodomésticosElectrónicosJuguetesJuguetesElectrónicosMueblesInstrumentos musicalesDeportes y diversiónElectrodomésticosMueblesElectrónicosLibrosElectrónicosLibrosElectrónicosElectrodomésticosElectrónicosMueblesMueblesJuguetesLibrosDeportes y diversiónJuguetesMueblesJuguetesElectrodomésticosElectrónicosJuguetesDeportes y diversiónElectrodomésticosJuguetesElectrodomésticosInstrumentos musicalesElectrónicosElectrónicosArtículos para el hogarElectrónicosMueblesElectrodomésticosArtículos para el hogarDeportes y diversiónDeportes y diversiónElectrónicosElectrónicosElectrodomésticosMueblesLibrosElectrónicosLibrosLibrosElectrodomésticosJuguetesElectrónicosElectrónicosDeportes y diversiónElectrónicosElectrodomésticosDeportes y diversiónDeportes y diversiónArtículos para el hogarDeportes y diversiónElectrodomésticosMueblesLibrosMueblesLibrosElectrónicosElectrónicosLibrosElectrónicosElectrónicosLibrosLibrosDeportes y diversiónArtículos para el hogarMueblesMueblesElectrodomésticosInstrumentos musicalesJuguetesDeportes y diversiónJuguetesLibrosElectrodomésticosMueblesLibrosJuguetesDeportes y diversiónDeportes y diversiónMueblesElectrónicosMueblesLibrosElectrónicosMueblesDeportes y diversiónInstrumentos musicalesDeportes y diversiónJuguetesMueblesElectrodomésticosDeportes y diversiónMueblesElectrónicosElectrónicosElectrónicosArtículos para el hogarInstrumentos musicalesMueblesInstrumentos musicalesLibrosElectrodomésticosLibrosElectrónicosElectrónicosMueblesMueblesJuguetesLibrosElectrónicosInstrumentos musicalesElectrónicosElectrónicosInstrumentos musicalesLibrosMueblesElectrónicosMueblesJuguetesDeportes y diversiónDeportes y diversiónElectrodomésticosArtículos para el hogarElectrodomésticosElectrónicosElectrónicosElectrónicosJuguetesElectrodomésticosElectrodomésticosMueblesElectrodomésticosMueblesElectrónicosMueblesElectrodomésticosInstrumentos musicalesElectrónicosJuguetesElectrodomésticosMueblesJuguetesDeportes y diversiónMueblesElectrodomésticosMueblesElectrónicosElectrónicosElectrónicosElectrónicosDeportes y diversiónElectrodomésticosMueblesJuguetesElectrónicosJuguetesArtículos para el hogarDeportes y diversiónMueblesJuguetesMueblesElectrónicosElectrónicosArtículos para el hogarElectrónicosElectrónicosElectrónicosMueblesInstrumentos musicalesElectrónicosElectrodomésticosJuguetesDeportes y diversiónJuguetesElectrónicosElectrónicosLibrosJuguetesElectrónicosElectrónicosMueblesInstrumentos musicalesElectrónicosJuguetesLibrosMueblesInstrumentos musicalesDeportes y diversiónMueblesElectrodomésticosInstrumentos musicalesInstrumentos musicalesDeportes y diversiónInstrumentos musicalesDeportes y diversiónElectrodomésticosMueblesMueblesMueblesLibrosMueblesMueblesInstrumentos musicalesArtículos para el hogarInstrumentos musicalesArtículos para el hogarArtículos para el hogarArtículos para el hogarJuguetesJuguetesInstrumentos musicalesDeportes y diversiónMueblesLibrosInstrumentos musicalesMueblesJuguetesElectrónicosArtículos para el hogarDeportes y diversiónInstrumentos musicalesDeportes y diversiónMueblesMueblesElectrónicosLibrosInstrumentos musicalesMueblesElectrodomésticosDeportes y diversiónElectrónicosMueblesArtículos para el hogarElectrodomésticosElectrónicosElectrónicosMueblesLibrosDeportes y diversiónElectrónicosArtículos para el hogarDeportes y diversiónArtículos para el hogarLibrosElectrónicosInstrumentos musicalesInstrumentos musicalesElectrónicosElectrónicosDeportes y diversiónDeportes y diversiónMueblesDeportes y diversiónElectrodomésticosArtículos para el hogarInstrumentos musicalesElectrodomésticosArtículos para el hogarElectrónicosLibrosElectrónicosDeportes y diversiónElectrónicosDeportes y diversiónMueblesElectrodomésticosMueblesJuguetesElectrónicosJuguetesElectrodomésticosElectrodomésticosElectrodomésticosDeportes y diversiónMueblesJuguetesMueblesMueblesElectrodomésticosElectrónicosArtículos para el hogarArtículos para el hogarElectrodomésticosDeportes y diversiónElectrodomésticosArtículos para el hogarElectrodomésticosInstrumentos musicalesLibrosElectrónicosElectrónicosElectrodomésticosDeportes y diversiónMueblesJuguetesMueblesElectrodomésticosElectrónicosMueblesElectrodomésticosJuguetesMueblesJuguetesMueblesMueblesMueblesMueblesJuguetesMueblesMueblesDeportes y diversiónLibrosLibrosLibrosInstrumentos musicalesInstrumentos musicalesElectrónicosElectrónicosElectrodomésticosMueblesJuguetesArtículos para el hogarElectrónicosElectrónicosDeportes y diversiónJuguetesMueblesJuguetesLibrosMueblesJuguetesInstrumentos musicalesJuguetesDeportes y diversiónJuguetesDeportes y diversiónLibrosLibrosMueblesMueblesMueblesElectrónicosElectrodomésticosElectrónicosDeportes y diversiónArtículos para el hogarMueblesJuguetesElectrodomésticosJuguetesMueblesArtículos para el hogarElectrónicosMueblesLibrosMueblesElectrodomésticosElectrodomésticosElectrónicosJuguetesMueblesMueblesElectrónicosInstrumentos musicalesElectrónicosInstrumentos musicalesElectrodomésticosJuguetesDeportes y diversiónDeportes y diversiónElectrodomésticosDeportes y diversiónElectrónicosDeportes y diversiónLibrosJuguetesInstrumentos musicalesElectrodomésticosMueblesInstrumentos musicalesElectrónicosJuguetesElectrodomésticosJuguetesDeportes y diversiónJuguetesMueblesMueblesElectrónicosInstrumentos musicalesElectrónicosElectrodomésticosArtículos para el hogarJuguetesInstrumentos musicalesDeportes y diversiónJuguetesElectrodomésticosElectrónicosElectrodomésticosElectrónicosElectrónicosMueblesMueblesElectrónicosElectrodomésticosMueblesMueblesJuguetesMueblesJuguetesElectrodomésticosLibrosElectrónicosInstrumentos musicalesLibrosDeportes y diversiónJuguetesElectrónicosElectrónicosElectrónicosElectrónicosMueblesElectrónicosArtículos para el hogarDeportes y diversiónLibrosInstrumentos musicalesDeportes y diversiónJuguetesElectrodomésticosJuguetesElectrodomésticosArtículos para el hogarDeportes y diversiónMueblesElectrónicosElectrodomésticosJuguetesMueblesElectrónicosElectrónicosInstrumentos musicalesElectrónicosJuguetesElectrodomésticosElectrónicosElectrónicosJuguetesElectrodomésticosLibrosLibrosDeportes y diversiónArtículos para el hogarMueblesDeportes y diversiónDeportes y diversiónElectrónicosJuguetesJuguetesInstrumentos musicalesElectrodomésticosElectrodomésticosElectrodomésticosJuguetesElectrodomésticosDeportes y diversiónJuguetesInstrumentos musicalesMueblesJuguetesJuguetesElectrodomésticosLibrosLibrosElectrodomésticosArtículos para el hogarElectrodomésticosInstrumentos musicalesElectrónicosElectrodomésticosJuguetesElectrodomésticosElectrónicosLibrosJuguetesMueblesArtículos para el hogarDeportes y diversiónJuguetesMueblesArtículos para el hogarInstrumentos musicalesArtículos para el hogarMueblesElectrónicosArtículos para el hogarElectrónicosElectrodomésticosMueblesElectrónicosJuguetesElectrodomésticosInstrumentos musicalesInstrumentos musicalesElectrónicosElectrónicosElectrodomésticosDeportes y diversiónInstrumentos musicalesMueblesJuguetesElectrodomésticosElectrodomésticosElectrónicosElectrodomésticosElectrónicosDeportes y diversiónMueblesElectrodomésticosMueblesDeportes y diversiónElectrodomésticosElectrónicosLibrosDeportes y diversiónMueblesMueblesElectrodomésticosDeportes y diversiónMueblesJuguetesDeportes y diversiónElectrodomésticosElectrodomésticosLibrosElectrónicosElectrónicosElectrónicosJuguetesInstrumentos musicalesElectrodomésticosDeportes y diversiónElectrónicosInstrumentos musicalesDeportes y diversiónInstrumentos musicalesElectrodomésticosJuguetesElectrónicosInstrumentos musicalesMueblesLibrosMueblesElectrónicosElectrónicosArtículos para el hogarLibrosJuguetesElectrónicosElectrónicosElectrónicosLibrosElectrónicosMueblesArtículos para el hogarMueblesElectrodomésticosElectrónicosLibrosElectrodomésticosElectrónicosJuguetesDeportes y diversiónLibrosArtículos para el hogarJuguetesLibrosElectrónicosLibrosMueblesElectrodomésticosInstrumentos musicalesElectrodomésticosMueblesMueblesArtículos para el hogarElectrodomésticosDeportes y diversiónMueblesJuguetesLibrosArtículos para el hogarJuguetesJuguetesJuguetesMueblesElectrónicosLibrosJuguetesJuguetesInstrumentos musicalesLibrosMueblesElectrónicosMueblesDeportes y diversiónMueblesJuguetesMueblesMueblesMueblesDeportes y diversiónLibrosMueblesMueblesElectrónicosElectrónicosInstrumentos musicalesElectrónicosElectrónicosLibrosMueblesInstrumentos musicalesJuguetesJuguetesJuguetesMueblesLibrosArtículos para el hogarDeportes y diversiónDeportes y diversiónDeportes y diversiónElectrodomésticosJuguetesJuguetesJuguetesInstrumentos musicalesDeportes y diversiónElectrodomésticosElectrónicosMueblesJuguetesElectrónicosMueblesElectrónicosLibrosInstrumentos musicalesElectrónicosElectrodomésticosMueblesElectrónicosElectrónicosMueblesJuguetesDeportes y diversiónJuguetesDeportes y diversiónElectrónicosInstrumentos musicalesInstrumentos musicalesInstrumentos musicalesMueblesJuguetesMueblesMueblesMueblesDeportes y diversiónDeportes y diversiónArtículos para el hogarArtículos para el hogarElectrónicosElectrónicosElectrónicosJuguetesMueblesElectrodomésticosMueblesDeportes y diversiónInstrumentos musicalesElectrodomésticosElectrodomésticosInstrumentos musicalesMueblesMueblesElectrodomésticosArtículos para el hogarElectrodomésticosArtículos para el hogarElectrodomésticosJuguetesJuguetesDeportes y diversiónArtículos para el hogarElectrodomésticosElectrodomésticosJuguetesLibrosInstrumentos musicalesJuguetesJuguetesDeportes y diversiónElectrónicosElectrodomésticosLibrosDeportes y diversiónLibrosMueblesJuguetesMueblesMueblesMueblesMueblesJuguetesInstrumentos musicalesMueblesElectrodomésticosElectrodomésticosMueblesMueblesDeportes y diversiónElectrónicosMueblesDeportes y diversiónArtículos para el hogarJuguetesArtículos para el hogarJuguetesMueblesMueblesElectrónicosMueblesMueblesElectrónicosElectrónicosDeportes y diversiónMueblesInstrumentos musicalesDeportes y diversiónElectrónicosElectrónicosElectrodomésticosDeportes y diversiónLibrosMueblesJuguetesElectrodomésticosArtículos para el hogarJuguetesArtículos para el hogarMueblesInstrumentos musicalesLibrosLibrosLibrosElectrodomésticosElectrodomésticosDeportes y diversiónJuguetesElectrónicosElectrodomésticosArtículos para el hogarJuguetesJuguetesDeportes y diversiónElectrónicosInstrumentos musicalesLibrosMueblesElectrodomésticosLibrosElectrónicosLibrosElectrónicosInstrumentos musicalesElectrónicosMueblesMueblesLibrosElectrodomésticosMueblesInstrumentos musicalesLibrosElectrónicosArtículos para el hogarLibrosElectrodomésticosDeportes y diversiónMueblesElectrónicosElectrónicosArtículos para el hogarElectrodomésticosElectrónicosElectrodomésticosMueblesMueblesLibrosDeportes y diversiónElectrónicosMueblesInstrumentos musicalesElectrónicosElectrónicosElectrodomésticosDeportes y diversiónElectrodomésticosDeportes y diversiónLibrosMueblesDeportes y diversiónDeportes y diversiónMueblesMueblesJuguetesJuguetesElectrodomésticosElectrodomésticosMueblesElectrónicosDeportes y diversiónMueblesElectrodomésticosInstrumentos musicalesElectrónicosElectrónicosDeportes y diversiónArtículos para el hogarMueblesMueblesJuguetesMueblesElectrónicosElectrónicosInstrumentos musicalesElectrodomésticosInstrumentos musicalesInstrumentos musicalesDeportes y diversiónDeportes y diversiónElectrodomésticosMueblesJuguetesElectrodomésticosElectrónicosElectrónicosElectrónicosJuguetesElectrodomésticosMueblesJuguetesElectrónicosElectrónicosDeportes y diversiónMueblesElectrónicosJuguetesDeportes y diversiónDeportes y diversiónDeportes y diversiónMueblesDeportes y diversiónElectrodomésticosDeportes y diversiónMueblesLibrosDeportes y diversiónDeportes y diversiónJuguetesElectrónicosLibrosElectrónicosJuguetesElectrónicosMueblesElectrodomésticosElectrodomésticosJuguetesJuguetesElectrónicosArtículos para el hogarArtículos para el hogarElectrodomésticosElectrónicosLibrosLibrosMueblesElectrodomésticosMueblesInstrumentos musicalesLibrosMueblesMueblesDeportes y diversiónDeportes y diversiónDeportes y diversiónMueblesDeportes y diversiónJuguetesDeportes y diversiónElectrónicosElectrónicosElectrodomésticosMueblesElectrónicosArtículos para el hogarElectrónicosDeportes y diversiónInstrumentos musicalesInstrumentos musicalesMueblesMueblesElectrodomésticosJuguetesElectrónicosInstrumentos musicalesArtículos para el hogarMueblesElectrónicosLibrosJuguetesMueblesElectrónicosArtículos para el hogarLibrosJuguetesMueblesElectrodomésticosElectrónicosInstrumentos musicalesMueblesInstrumentos musicalesJuguetesElectrónicosElectrónicosJuguetesLibrosMueblesJuguetesElectrónicosElectrodomésticosInstrumentos musicalesElectrónicosInstrumentos musicalesInstrumentos musicalesElectrónicosMueblesElectrónicosElectrodomésticosElectrónicosElectrónicosElectrónicosInstrumentos musicalesArtículos para el hogarMueblesElectrónicosElectrodomésticosArtículos para el hogarArtículos para el hogarElectrónicosElectrónicosElectrónicosElectrónicosMueblesElectrónicosElectrónicosJuguetesJuguetesArtículos para el hogarJuguetesElectrodomésticosElectrónicosMueblesElectrónicosMueblesJuguetesArtículos para el hogarElectrodomésticosMueblesInstrumentos musicalesElectrodomésticosElectrónicosElectrónicosJuguetesMueblesInstrumentos musicalesElectrónicosMueblesElectrodomésticosMueblesElectrodomésticosMueblesElectrodomésticosLibrosJuguetesMueblesLibrosElectrónicosJuguetesElectrónicosElectrodomésticosArtículos para el hogarMueblesElectrónicosInstrumentos musicalesMueblesInstrumentos musicalesElectrónicosElectrodomésticosElectrónicosDeportes y diversiónDeportes y diversiónMueblesElectrónicosElectrodomésticosDeportes y diversiónElectrodomésticosMueblesArtículos para el hogarMueblesInstrumentos musicalesLibrosMueblesJuguetesMueblesInstrumentos musicalesDeportes y diversiónLibrosDeportes y diversiónLibrosDeportes y diversiónArtículos para el hogarElectrodomésticosArtículos para el hogarDeportes y diversiónLibrosLibrosMueblesJuguetesElectrónicosElectrónicosElectrodomésticosElectrónicosElectrónicosElectrodomésticosDeportes y diversiónElectrodomésticosMueblesMueblesElectrónicosJuguetesJuguetesDeportes y diversiónElectrodomésticosDeportes y diversiónLibrosElectrodomésticosArtículos para el hogarElectrónicosJuguetesElectrónicosInstrumentos musicalesDeportes y diversiónMueblesJuguetesJuguetesArtículos para el hogarElectrodomésticosElectrodomésticosElectrodomésticosElectrónicosElectrodomésticosElectrodomésticosElectrónicosDeportes y diversiónDeportes y diversiónElectrónicosJuguetesElectrodomésticosArtículos para el hogarDeportes y diversiónMueblesDeportes y diversiónDeportes y diversiónJuguetesArtículos para el hogarElectrónicosElectrónicosMueblesDeportes y diversiónLibrosMueblesMueblesDeportes y diversiónElectrónicosMueblesInstrumentos musicalesElectrónicosMueblesElectrodomésticosElectrónicosInstrumentos musicalesMueblesArtículos para el hogarJuguetesLibrosElectrónicosMueblesElectrónicosElectrodomésticosDeportes y diversiónJuguetesElectrónicosElectrodomésticosElectrónicosMueblesArtículos para el hogarDeportes y diversiónMueblesLibrosElectrodomésticosElectrónicosDeportes y diversiónArtículos para el hogarElectrónicosMueblesMueblesElectrónicosInstrumentos musicalesArtículos para el hogarDeportes y diversiónArtículos para el hogarJuguetesMueblesMueblesArtículos para el hogarElectrónicosElectrónicosJuguetesMueblesElectrónicos'"
            ]
          },
          "execution_count": 11,
          "metadata": {},
          "output_type": "execute_result"
        }
      ],
      "source": [
        "tienda['Categoría del Producto']"
      ]
    },
    {
      "cell_type": "markdown",
      "metadata": {
        "id": "Rq6tU_xSY3jk"
      },
      "source": [
        "# 3. Calificación promedio de la tienda\n"
      ]
    },
    {
      "cell_type": "code",
      "execution_count": null,
      "metadata": {
        "id": "bh3jjjJwY5MU"
      },
      "outputs": [],
      "source": []
    },
    {
      "cell_type": "code",
      "execution_count": null,
      "metadata": {
        "id": "I0KkjPoTY88F"
      },
      "outputs": [],
      "source": []
    },
    {
      "cell_type": "markdown",
      "metadata": {
        "id": "DmNp1KPBZCm-"
      },
      "source": [
        "# 4. Productos más y menos vendidos"
      ]
    },
    {
      "cell_type": "code",
      "execution_count": null,
      "metadata": {
        "id": "qoyjqijQZHfF"
      },
      "outputs": [],
      "source": []
    },
    {
      "cell_type": "code",
      "execution_count": null,
      "metadata": {
        "id": "0Sw3sd4IZIGW"
      },
      "outputs": [],
      "source": []
    },
    {
      "cell_type": "markdown",
      "metadata": {
        "id": "Fl0cGi3bZKqU"
      },
      "source": [
        "# 5. Envío promedio por tienda"
      ]
    },
    {
      "cell_type": "code",
      "execution_count": null,
      "metadata": {
        "id": "S2JeaCykZNy9"
      },
      "outputs": [],
      "source": []
    },
    {
      "cell_type": "code",
      "execution_count": null,
      "metadata": {
        "id": "0tSdCie9ZQlt"
      },
      "outputs": [],
      "source": []
    }
  ],
  "metadata": {
    "colab": {
      "provenance": []
    },
    "kernelspec": {
      "display_name": "data",
      "language": "python",
      "name": "python3"
    },
    "language_info": {
      "codemirror_mode": {
        "name": "ipython",
        "version": 3
      },
      "file_extension": ".py",
      "mimetype": "text/x-python",
      "name": "python",
      "nbconvert_exporter": "python",
      "pygments_lexer": "ipython3",
      "version": "3.10.8"
    }
  },
  "nbformat": 4,
  "nbformat_minor": 0
}
