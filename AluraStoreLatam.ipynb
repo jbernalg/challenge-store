{
  "cells": [
    {
      "cell_type": "markdown",
      "metadata": {},
      "source": [
        "# Toma de decisiones basadas en datos"
      ]
    },
    {
      "cell_type": "markdown",
      "metadata": {},
      "source": [
        "En el siguiente analisis se busca ayudar al Sr. Juan a decidir cual de sus cuatros tiendas de su cadena Alura Store deberia vender para iniciar un nuevo emprendimiento. Para ello, se analiza datos de ventas, rendimiento y reseñas de las 4 tiendas. El objetivo es identificar la tienda menos eficiente y presentar una recomendacion final basada en los datos."
      ]
    },
    {
      "cell_type": "markdown",
      "metadata": {
        "id": "RhEdWd9YUR6H"
      },
      "source": [
        "### Importación de datos\n",
        "\n"
      ]
    },
    {
      "cell_type": "code",
      "execution_count": 50,
      "metadata": {
        "colab": {
          "base_uri": "https://localhost:8080/",
          "height": 206
        },
        "id": "T3EvaeQ_INIL",
        "outputId": "e9c5efe1-82a3-43ab-e8d7-6d01e4fa3514"
      },
      "outputs": [
        {
          "data": {
            "text/html": [
              "<div>\n",
              "<style scoped>\n",
              "    .dataframe tbody tr th:only-of-type {\n",
              "        vertical-align: middle;\n",
              "    }\n",
              "\n",
              "    .dataframe tbody tr th {\n",
              "        vertical-align: top;\n",
              "    }\n",
              "\n",
              "    .dataframe thead th {\n",
              "        text-align: right;\n",
              "    }\n",
              "</style>\n",
              "<table border=\"1\" class=\"dataframe\">\n",
              "  <thead>\n",
              "    <tr style=\"text-align: right;\">\n",
              "      <th></th>\n",
              "      <th>Producto</th>\n",
              "      <th>Categoría del Producto</th>\n",
              "      <th>Precio</th>\n",
              "      <th>Costo de envío</th>\n",
              "      <th>Fecha de Compra</th>\n",
              "      <th>Vendedor</th>\n",
              "      <th>Lugar de Compra</th>\n",
              "      <th>Calificación</th>\n",
              "      <th>Método de pago</th>\n",
              "      <th>Cantidad de cuotas</th>\n",
              "      <th>lat</th>\n",
              "      <th>lon</th>\n",
              "    </tr>\n",
              "  </thead>\n",
              "  <tbody>\n",
              "    <tr>\n",
              "      <th>0</th>\n",
              "      <td>Asistente virtual</td>\n",
              "      <td>Electrónicos</td>\n",
              "      <td>164300.0</td>\n",
              "      <td>6900.0</td>\n",
              "      <td>16/01/2021</td>\n",
              "      <td>Pedro Gomez</td>\n",
              "      <td>Bogotá</td>\n",
              "      <td>4</td>\n",
              "      <td>Tarjeta de crédito</td>\n",
              "      <td>8</td>\n",
              "      <td>4.60971</td>\n",
              "      <td>-74.08175</td>\n",
              "    </tr>\n",
              "    <tr>\n",
              "      <th>1</th>\n",
              "      <td>Mesa de comedor</td>\n",
              "      <td>Muebles</td>\n",
              "      <td>192300.0</td>\n",
              "      <td>8400.0</td>\n",
              "      <td>18/05/2022</td>\n",
              "      <td>Beatriz Morales</td>\n",
              "      <td>Medellín</td>\n",
              "      <td>1</td>\n",
              "      <td>Tarjeta de crédito</td>\n",
              "      <td>4</td>\n",
              "      <td>6.25184</td>\n",
              "      <td>-75.56359</td>\n",
              "    </tr>\n",
              "    <tr>\n",
              "      <th>2</th>\n",
              "      <td>Juego de mesa</td>\n",
              "      <td>Juguetes</td>\n",
              "      <td>209600.0</td>\n",
              "      <td>15900.0</td>\n",
              "      <td>15/03/2021</td>\n",
              "      <td>Juan Fernandez</td>\n",
              "      <td>Cartagena</td>\n",
              "      <td>1</td>\n",
              "      <td>Tarjeta de crédito</td>\n",
              "      <td>1</td>\n",
              "      <td>10.39972</td>\n",
              "      <td>-75.51444</td>\n",
              "    </tr>\n",
              "    <tr>\n",
              "      <th>3</th>\n",
              "      <td>Microondas</td>\n",
              "      <td>Electrodomésticos</td>\n",
              "      <td>757500.0</td>\n",
              "      <td>41000.0</td>\n",
              "      <td>03/05/2022</td>\n",
              "      <td>Juan Fernandez</td>\n",
              "      <td>Cali</td>\n",
              "      <td>4</td>\n",
              "      <td>Nequi</td>\n",
              "      <td>1</td>\n",
              "      <td>3.43722</td>\n",
              "      <td>-76.52250</td>\n",
              "    </tr>\n",
              "    <tr>\n",
              "      <th>4</th>\n",
              "      <td>Silla de oficina</td>\n",
              "      <td>Muebles</td>\n",
              "      <td>335200.0</td>\n",
              "      <td>20200.0</td>\n",
              "      <td>07/11/2020</td>\n",
              "      <td>Maria Alfonso</td>\n",
              "      <td>Medellín</td>\n",
              "      <td>5</td>\n",
              "      <td>Nequi</td>\n",
              "      <td>1</td>\n",
              "      <td>6.25184</td>\n",
              "      <td>-75.56359</td>\n",
              "    </tr>\n",
              "  </tbody>\n",
              "</table>\n",
              "</div>"
            ],
            "text/plain": [
              "            Producto Categoría del Producto    Precio  Costo de envío  \\\n",
              "0  Asistente virtual           Electrónicos  164300.0          6900.0   \n",
              "1    Mesa de comedor                Muebles  192300.0          8400.0   \n",
              "2      Juego de mesa               Juguetes  209600.0         15900.0   \n",
              "3         Microondas      Electrodomésticos  757500.0         41000.0   \n",
              "4   Silla de oficina                Muebles  335200.0         20200.0   \n",
              "\n",
              "  Fecha de Compra         Vendedor Lugar de Compra  Calificación  \\\n",
              "0      16/01/2021      Pedro Gomez          Bogotá             4   \n",
              "1      18/05/2022  Beatriz Morales        Medellín             1   \n",
              "2      15/03/2021   Juan Fernandez       Cartagena             1   \n",
              "3      03/05/2022   Juan Fernandez            Cali             4   \n",
              "4      07/11/2020    Maria Alfonso        Medellín             5   \n",
              "\n",
              "       Método de pago  Cantidad de cuotas       lat       lon  \n",
              "0  Tarjeta de crédito                   8   4.60971 -74.08175  \n",
              "1  Tarjeta de crédito                   4   6.25184 -75.56359  \n",
              "2  Tarjeta de crédito                   1  10.39972 -75.51444  \n",
              "3               Nequi                   1   3.43722 -76.52250  \n",
              "4               Nequi                   1   6.25184 -75.56359  "
            ]
          },
          "execution_count": 50,
          "metadata": {},
          "output_type": "execute_result"
        }
      ],
      "source": [
        "import pandas as pd\n",
        "\n",
        "url = \"https://raw.githubusercontent.com/alura-es-cursos/challenge1-data-science-latam/refs/heads/main/base-de-datos-challenge1-latam/tienda_1%20.csv\"\n",
        "url2 = \"https://raw.githubusercontent.com/alura-es-cursos/challenge1-data-science-latam/refs/heads/main/base-de-datos-challenge1-latam/tienda_2.csv\"\n",
        "url3 = \"https://raw.githubusercontent.com/alura-es-cursos/challenge1-data-science-latam/refs/heads/main/base-de-datos-challenge1-latam/tienda_3.csv\"\n",
        "url4 = \"https://raw.githubusercontent.com/alura-es-cursos/challenge1-data-science-latam/refs/heads/main/base-de-datos-challenge1-latam/tienda_4.csv\"\n",
        "\n",
        "tienda = pd.read_csv(url)\n",
        "tienda2 = pd.read_csv(url2)\n",
        "tienda3 = pd.read_csv(url3)\n",
        "tienda4 = pd.read_csv(url4)\n",
        "\n",
        "tienda.head()"
      ]
    },
    {
      "cell_type": "code",
      "execution_count": 51,
      "metadata": {},
      "outputs": [
        {
          "data": {
            "text/plain": [
              "(2359, 12)"
            ]
          },
          "execution_count": 51,
          "metadata": {},
          "output_type": "execute_result"
        }
      ],
      "source": [
        "tienda.shape"
      ]
    },
    {
      "cell_type": "markdown",
      "metadata": {
        "id": "X62IW3KFUIYm"
      },
      "source": [
        "# 1. Análisis de facturación"
      ]
    },
    {
      "cell_type": "markdown",
      "metadata": {},
      "source": [
        "Vamos a calcular el ingreso total por tienda sumando los valores de la columna __Precio__ ya que estos corresponden a los productos comprados por los clientes. Cada registro corresponde a la compra de un cliente."
      ]
    },
    {
      "cell_type": "markdown",
      "metadata": {},
      "source": [
        "## 1.1 Ingreso total por tienda"
      ]
    },
    {
      "cell_type": "code",
      "execution_count": 52,
      "metadata": {},
      "outputs": [],
      "source": [
        "# lista para guardar los ingresos de cada tienda\n",
        "ingresos = []\n",
        "\n",
        "# lista con los nombres de cada tienda\n",
        "tiendas = ['Tienda_1', 'Tienda_2', 'Tienda_3', 'Tienda_4']"
      ]
    },
    {
      "cell_type": "code",
      "execution_count": 53,
      "metadata": {
        "id": "xykobSftV64I"
      },
      "outputs": [
        {
          "data": {
            "text/plain": [
              "1150880400.0"
            ]
          },
          "execution_count": 53,
          "metadata": {},
          "output_type": "execute_result"
        }
      ],
      "source": [
        "# ingreso tienda 1\n",
        "ingreso_total_T1 = tienda.Precio.sum()\n",
        "ingresos.append(ingreso_total_T1)\n",
        "ingreso_total_T1"
      ]
    },
    {
      "cell_type": "code",
      "execution_count": 54,
      "metadata": {
        "id": "KDyr8E71V3m-"
      },
      "outputs": [
        {
          "data": {
            "text/plain": [
              "1116343500.0"
            ]
          },
          "execution_count": 54,
          "metadata": {},
          "output_type": "execute_result"
        }
      ],
      "source": [
        "# ingreso tienda 2\n",
        "ingreso_total_T2 = tienda2.Precio.sum()\n",
        "ingresos.append(ingreso_total_T2)\n",
        "ingreso_total_T2"
      ]
    },
    {
      "cell_type": "code",
      "execution_count": 55,
      "metadata": {},
      "outputs": [
        {
          "data": {
            "text/plain": [
              "1098019600.0"
            ]
          },
          "execution_count": 55,
          "metadata": {},
          "output_type": "execute_result"
        }
      ],
      "source": [
        "# ingreso tienda 3\n",
        "ingreso_total_T3 = tienda3.Precio.sum()\n",
        "ingresos.append(ingreso_total_T3)\n",
        "ingreso_total_T3"
      ]
    },
    {
      "cell_type": "code",
      "execution_count": 56,
      "metadata": {},
      "outputs": [
        {
          "data": {
            "text/plain": [
              "1038375700.0"
            ]
          },
          "execution_count": 56,
          "metadata": {},
          "output_type": "execute_result"
        }
      ],
      "source": [
        "# ingreso tienda 4\n",
        "ingreso_total_T4 = tienda4.Precio.sum()\n",
        "ingresos.append(ingreso_total_T4)\n",
        "ingreso_total_T4"
      ]
    },
    {
      "cell_type": "code",
      "execution_count": 57,
      "metadata": {},
      "outputs": [
        {
          "data": {
            "text/html": [
              "<div>\n",
              "<style scoped>\n",
              "    .dataframe tbody tr th:only-of-type {\n",
              "        vertical-align: middle;\n",
              "    }\n",
              "\n",
              "    .dataframe tbody tr th {\n",
              "        vertical-align: top;\n",
              "    }\n",
              "\n",
              "    .dataframe thead th {\n",
              "        text-align: right;\n",
              "    }\n",
              "</style>\n",
              "<table border=\"1\" class=\"dataframe\">\n",
              "  <thead>\n",
              "    <tr style=\"text-align: right;\">\n",
              "      <th></th>\n",
              "      <th>Tiendas</th>\n",
              "      <th>Ingreso_Total</th>\n",
              "    </tr>\n",
              "  </thead>\n",
              "  <tbody>\n",
              "    <tr>\n",
              "      <th>0</th>\n",
              "      <td>Tienda_1</td>\n",
              "      <td>1.150880e+09</td>\n",
              "    </tr>\n",
              "    <tr>\n",
              "      <th>1</th>\n",
              "      <td>Tienda_2</td>\n",
              "      <td>1.116344e+09</td>\n",
              "    </tr>\n",
              "    <tr>\n",
              "      <th>2</th>\n",
              "      <td>Tienda_3</td>\n",
              "      <td>1.098020e+09</td>\n",
              "    </tr>\n",
              "    <tr>\n",
              "      <th>3</th>\n",
              "      <td>Tienda_4</td>\n",
              "      <td>1.038376e+09</td>\n",
              "    </tr>\n",
              "  </tbody>\n",
              "</table>\n",
              "</div>"
            ],
            "text/plain": [
              "    Tiendas  Ingreso_Total\n",
              "0  Tienda_1   1.150880e+09\n",
              "1  Tienda_2   1.116344e+09\n",
              "2  Tienda_3   1.098020e+09\n",
              "3  Tienda_4   1.038376e+09"
            ]
          },
          "execution_count": 57,
          "metadata": {},
          "output_type": "execute_result"
        }
      ],
      "source": [
        "# dataframe con los ingresos por tienda\n",
        "tiendas_df = pd.DataFrame({\n",
        "    'Tiendas': tiendas,\n",
        "    'Ingreso_Total':ingresos\n",
        "})\n",
        "\n",
        "tiendas_df"
      ]
    },
    {
      "cell_type": "markdown",
      "metadata": {},
      "source": [
        "> La tienda 4 es la que menos ingresos ha tenido\n",
        "\n",
        "> La tienda 1 es la que presenta mayores ingresos."
      ]
    },
    {
      "cell_type": "markdown",
      "metadata": {
        "id": "2V_vcAPzWZmR"
      },
      "source": [
        "## 1.2 Ventas por categoría"
      ]
    },
    {
      "cell_type": "markdown",
      "metadata": {},
      "source": [
        "Vamos a obtener los nombres de cada categoria"
      ]
    },
    {
      "cell_type": "code",
      "execution_count": 58,
      "metadata": {
        "id": "A34YupIuYhfF"
      },
      "outputs": [
        {
          "data": {
            "text/plain": [
              "array(['Electrónicos', 'Muebles', 'Juguetes', 'Electrodomésticos',\n",
              "       'Artículos para el hogar', 'Deportes y diversión', 'Libros',\n",
              "       'Instrumentos musicales'], dtype=object)"
            ]
          },
          "execution_count": 58,
          "metadata": {},
          "output_type": "execute_result"
        }
      ],
      "source": [
        "tienda['Categoría del Producto'].unique()"
      ]
    },
    {
      "cell_type": "markdown",
      "metadata": {},
      "source": [
        "Ahora, calculamos la cantidad de productos vendidos por categoria para cada tienda."
      ]
    },
    {
      "cell_type": "code",
      "execution_count": 59,
      "metadata": {},
      "outputs": [],
      "source": [
        "# cantidad de productos vendidos por categoria de la tienda 1\n",
        "conteo_T1 = tienda['Categoría del Producto'].value_counts().reset_index()\n",
        "conteo_T1.columns = ['Categoria', 'Cantidad_T1']\n",
        "\n",
        "# cantidad de productos vendidos por categoria de la tienda 2\n",
        "conteo_T2 = tienda2['Categoría del Producto'].value_counts().reset_index()\n",
        "conteo_T2.columns = ['Categoria', 'Cantidad_T2']\n",
        "\n",
        "# cantidad de productos vendidos por categoria de la tienda 3\n",
        "conteo_T3 = tienda3['Categoría del Producto'].value_counts().reset_index()\n",
        "conteo_T3.columns = ['Categoria', 'Cantidad_T3']\n",
        "\n",
        "# cantidad de productos vendidos por categoria de la tienda 1\n",
        "conteo_T4 = tienda4['Categoría del Producto'].value_counts().reset_index()\n",
        "conteo_T4.columns = ['Categoria', 'Cantidad_T4']"
      ]
    },
    {
      "cell_type": "markdown",
      "metadata": {},
      "source": [
        "Unimos los resultados de cada tienda en un mismo dataframe para realizar una comparacion numerica. "
      ]
    },
    {
      "cell_type": "code",
      "execution_count": 60,
      "metadata": {},
      "outputs": [
        {
          "data": {
            "text/html": [
              "<div>\n",
              "<style scoped>\n",
              "    .dataframe tbody tr th:only-of-type {\n",
              "        vertical-align: middle;\n",
              "    }\n",
              "\n",
              "    .dataframe tbody tr th {\n",
              "        vertical-align: top;\n",
              "    }\n",
              "\n",
              "    .dataframe thead th {\n",
              "        text-align: right;\n",
              "    }\n",
              "</style>\n",
              "<table border=\"1\" class=\"dataframe\">\n",
              "  <thead>\n",
              "    <tr style=\"text-align: right;\">\n",
              "      <th></th>\n",
              "      <th>Categoria</th>\n",
              "      <th>Cantidad_T1</th>\n",
              "      <th>Cantidad_T2</th>\n",
              "      <th>Cantidad_T3</th>\n",
              "      <th>Cantidad_T4</th>\n",
              "    </tr>\n",
              "  </thead>\n",
              "  <tbody>\n",
              "    <tr>\n",
              "      <th>0</th>\n",
              "      <td>Muebles</td>\n",
              "      <td>465</td>\n",
              "      <td>442</td>\n",
              "      <td>499</td>\n",
              "      <td>480</td>\n",
              "    </tr>\n",
              "    <tr>\n",
              "      <th>1</th>\n",
              "      <td>Electrónicos</td>\n",
              "      <td>448</td>\n",
              "      <td>422</td>\n",
              "      <td>451</td>\n",
              "      <td>451</td>\n",
              "    </tr>\n",
              "    <tr>\n",
              "      <th>2</th>\n",
              "      <td>Juguetes</td>\n",
              "      <td>324</td>\n",
              "      <td>313</td>\n",
              "      <td>315</td>\n",
              "      <td>338</td>\n",
              "    </tr>\n",
              "    <tr>\n",
              "      <th>3</th>\n",
              "      <td>Electrodomésticos</td>\n",
              "      <td>312</td>\n",
              "      <td>305</td>\n",
              "      <td>278</td>\n",
              "      <td>254</td>\n",
              "    </tr>\n",
              "    <tr>\n",
              "      <th>4</th>\n",
              "      <td>Deportes y diversión</td>\n",
              "      <td>284</td>\n",
              "      <td>275</td>\n",
              "      <td>277</td>\n",
              "      <td>277</td>\n",
              "    </tr>\n",
              "    <tr>\n",
              "      <th>5</th>\n",
              "      <td>Instrumentos musicales</td>\n",
              "      <td>182</td>\n",
              "      <td>224</td>\n",
              "      <td>177</td>\n",
              "      <td>170</td>\n",
              "    </tr>\n",
              "    <tr>\n",
              "      <th>6</th>\n",
              "      <td>Libros</td>\n",
              "      <td>173</td>\n",
              "      <td>197</td>\n",
              "      <td>185</td>\n",
              "      <td>187</td>\n",
              "    </tr>\n",
              "    <tr>\n",
              "      <th>7</th>\n",
              "      <td>Artículos para el hogar</td>\n",
              "      <td>171</td>\n",
              "      <td>181</td>\n",
              "      <td>177</td>\n",
              "      <td>201</td>\n",
              "    </tr>\n",
              "  </tbody>\n",
              "</table>\n",
              "</div>"
            ],
            "text/plain": [
              "                 Categoria  Cantidad_T1  Cantidad_T2  Cantidad_T3  Cantidad_T4\n",
              "0                  Muebles          465          442          499          480\n",
              "1             Electrónicos          448          422          451          451\n",
              "2                 Juguetes          324          313          315          338\n",
              "3        Electrodomésticos          312          305          278          254\n",
              "4     Deportes y diversión          284          275          277          277\n",
              "5   Instrumentos musicales          182          224          177          170\n",
              "6                   Libros          173          197          185          187\n",
              "7  Artículos para el hogar          171          181          177          201"
            ]
          },
          "execution_count": 60,
          "metadata": {},
          "output_type": "execute_result"
        }
      ],
      "source": [
        "from functools import reduce\n",
        "\n",
        "conteos_df = [conteo_T1, conteo_T2, conteo_T3, conteo_T4]\n",
        "df_categorias_tiendas = reduce(lambda left, right: pd.merge(left, right, on='Categoria'), conteos_df)\n",
        "df_categorias_tiendas"
      ]
    },
    {
      "cell_type": "markdown",
      "metadata": {},
      "source": [
        "> Las 3 categorias mas vendidas de todas las tiendas son: Muebles, electronicos y juguetes.\n",
        "\n",
        "> La tienda 3 posee mayor cantidad de ventas de muebles con un total de 499 unidades.\n",
        "\n",
        "> Las tiendas 3 y 4 han vendido mayor cantidad de electronico con un total de 451 unidades.\n",
        "\n",
        "> La tienda 4 ha vendido mayor cantidad de juguetes con un total de 338 unidades"
      ]
    },
    {
      "cell_type": "markdown",
      "metadata": {
        "id": "Rq6tU_xSY3jk"
      },
      "source": [
        "## 1.3 Calificación promedio de la tienda\n"
      ]
    },
    {
      "cell_type": "markdown",
      "metadata": {},
      "source": [
        "Vamos a obtener los valores unicos de calificacion."
      ]
    },
    {
      "cell_type": "code",
      "execution_count": 61,
      "metadata": {},
      "outputs": [
        {
          "data": {
            "text/plain": [
              "array([4, 1, 5, 3, 2])"
            ]
          },
          "execution_count": 61,
          "metadata": {},
          "output_type": "execute_result"
        }
      ],
      "source": [
        "# valores de la columna calificacion\n",
        "tienda['Calificación'].unique()"
      ]
    },
    {
      "cell_type": "markdown",
      "metadata": {},
      "source": [
        "Calculamos el promedio de calificacion de cada tienda y lo guardamos en una lista"
      ]
    },
    {
      "cell_type": "code",
      "execution_count": 62,
      "metadata": {
        "id": "bh3jjjJwY5MU"
      },
      "outputs": [
        {
          "data": {
            "text/plain": [
              "[3.98, 4.04, 4.05, 4.0]"
            ]
          },
          "execution_count": 62,
          "metadata": {},
          "output_type": "execute_result"
        }
      ],
      "source": [
        "prom_cal = []\n",
        "\n",
        "cal_prom_T1 = tienda['Calificación'].mean()\n",
        "prom_cal.append(round(cal_prom_T1,2))\n",
        "\n",
        "cal_prom_T2 = tienda2['Calificación'].mean()\n",
        "prom_cal.append(round(cal_prom_T2,2))\n",
        "\n",
        "cal_prom_T3 = tienda3['Calificación'].mean()\n",
        "prom_cal.append(round(cal_prom_T3,2))\n",
        "\n",
        "cal_prom_T4 = tienda4['Calificación'].mean()\n",
        "prom_cal.append(round(cal_prom_T4,2))\n",
        "\n",
        "prom_cal"
      ]
    },
    {
      "cell_type": "markdown",
      "metadata": {},
      "source": [
        "Agregamos la calificacion de cada tienda en el dataframe 'tiendas_df'"
      ]
    },
    {
      "cell_type": "code",
      "execution_count": 63,
      "metadata": {},
      "outputs": [
        {
          "data": {
            "text/html": [
              "<div>\n",
              "<style scoped>\n",
              "    .dataframe tbody tr th:only-of-type {\n",
              "        vertical-align: middle;\n",
              "    }\n",
              "\n",
              "    .dataframe tbody tr th {\n",
              "        vertical-align: top;\n",
              "    }\n",
              "\n",
              "    .dataframe thead th {\n",
              "        text-align: right;\n",
              "    }\n",
              "</style>\n",
              "<table border=\"1\" class=\"dataframe\">\n",
              "  <thead>\n",
              "    <tr style=\"text-align: right;\">\n",
              "      <th></th>\n",
              "      <th>Tiendas</th>\n",
              "      <th>Ingreso_Total</th>\n",
              "      <th>Calificacion</th>\n",
              "    </tr>\n",
              "  </thead>\n",
              "  <tbody>\n",
              "    <tr>\n",
              "      <th>0</th>\n",
              "      <td>Tienda_1</td>\n",
              "      <td>1.150880e+09</td>\n",
              "      <td>3.98</td>\n",
              "    </tr>\n",
              "    <tr>\n",
              "      <th>1</th>\n",
              "      <td>Tienda_2</td>\n",
              "      <td>1.116344e+09</td>\n",
              "      <td>4.04</td>\n",
              "    </tr>\n",
              "    <tr>\n",
              "      <th>2</th>\n",
              "      <td>Tienda_3</td>\n",
              "      <td>1.098020e+09</td>\n",
              "      <td>4.05</td>\n",
              "    </tr>\n",
              "    <tr>\n",
              "      <th>3</th>\n",
              "      <td>Tienda_4</td>\n",
              "      <td>1.038376e+09</td>\n",
              "      <td>4.00</td>\n",
              "    </tr>\n",
              "  </tbody>\n",
              "</table>\n",
              "</div>"
            ],
            "text/plain": [
              "    Tiendas  Ingreso_Total  Calificacion\n",
              "0  Tienda_1   1.150880e+09          3.98\n",
              "1  Tienda_2   1.116344e+09          4.04\n",
              "2  Tienda_3   1.098020e+09          4.05\n",
              "3  Tienda_4   1.038376e+09          4.00"
            ]
          },
          "execution_count": 63,
          "metadata": {},
          "output_type": "execute_result"
        }
      ],
      "source": [
        "tiendas_df['Calificacion'] = prom_cal\n",
        "tiendas_df "
      ]
    },
    {
      "cell_type": "markdown",
      "metadata": {},
      "source": [
        "> La mayoria de las tiendas promedian una calificacion aproximada de 4.\n",
        "\n",
        "> La tienda con la mejor calificacion es la 3 con un promedio de 4.04.\n",
        "\n",
        "> La tienda con el peor calificacion es la 1 con un promedio de 3.97."
      ]
    },
    {
      "cell_type": "markdown",
      "metadata": {
        "id": "DmNp1KPBZCm-"
      },
      "source": [
        "## 1.4 Productos más y menos vendidos"
      ]
    },
    {
      "cell_type": "markdown",
      "metadata": {},
      "source": [
        "Vamos a obtener el producto mas vendido por cada tienda incluyendo la cantidad, asi como el producto menos vendido"
      ]
    },
    {
      "cell_type": "code",
      "execution_count": 64,
      "metadata": {
        "id": "qoyjqijQZHfF"
      },
      "outputs": [],
      "source": [
        "tiendas = [tienda, tienda2, tienda3, tienda4]\n",
        "\n",
        "mas_vendido = []\n",
        "cant_mas_vendido = []\n",
        "precio_mas_vendido = []\n",
        "menos_vendido = []\n",
        "cant_menos_vendido = []\n",
        "precio_menos_vendido = []\n",
        "\n",
        "for df in tiendas:\n",
        "\n",
        "    prods = df['Producto'].value_counts()\n",
        "    \n",
        "    more = prods.index[0]\n",
        "    cant_more = prods.iloc[0]\n",
        "    mas_vendido.append(more)\n",
        "    cant_mas_vendido.append(cant_more)\n",
        "\n",
        "    less = prods.index[-1]\n",
        "    cant_less = prods.iloc[-1]\n",
        "    menos_vendido.append(less)\n",
        "    cant_menos_vendido.append(cant_less)\n",
        "\n",
        "    precio_more = df[df['Producto'] == more]['Precio'].values[0]\n",
        "    precio_less = df[df['Producto'] == less]['Precio'].values[0]\n",
        "    precio_mas_vendido.append(precio_more)\n",
        "    precio_menos_vendido.append(precio_less)\n"
      ]
    },
    {
      "cell_type": "markdown",
      "metadata": {},
      "source": [
        "Agregamos los datos obtenidos al dataframe 'tiendas_df' para tener mejor resumida la informacion."
      ]
    },
    {
      "cell_type": "code",
      "execution_count": 65,
      "metadata": {},
      "outputs": [
        {
          "data": {
            "text/html": [
              "<div>\n",
              "<style scoped>\n",
              "    .dataframe tbody tr th:only-of-type {\n",
              "        vertical-align: middle;\n",
              "    }\n",
              "\n",
              "    .dataframe tbody tr th {\n",
              "        vertical-align: top;\n",
              "    }\n",
              "\n",
              "    .dataframe thead th {\n",
              "        text-align: right;\n",
              "    }\n",
              "</style>\n",
              "<table border=\"1\" class=\"dataframe\">\n",
              "  <thead>\n",
              "    <tr style=\"text-align: right;\">\n",
              "      <th></th>\n",
              "      <th>Tiendas</th>\n",
              "      <th>Ingreso_Total</th>\n",
              "      <th>Calificacion</th>\n",
              "      <th>Prod. mas vendido</th>\n",
              "      <th>Cant. mas vendido</th>\n",
              "      <th>Prec. mas vendido</th>\n",
              "      <th>Ingr. mas vendido</th>\n",
              "      <th>Prod. menos vendido</th>\n",
              "      <th>Cant. menos vendido</th>\n",
              "      <th>Prec. menos vendido</th>\n",
              "      <th>Ingr. menos vendido</th>\n",
              "    </tr>\n",
              "  </thead>\n",
              "  <tbody>\n",
              "    <tr>\n",
              "      <th>0</th>\n",
              "      <td>Tienda_1</td>\n",
              "      <td>1.150880e+09</td>\n",
              "      <td>3.98</td>\n",
              "      <td>TV LED UHD 4K</td>\n",
              "      <td>60</td>\n",
              "      <td>1891700.0</td>\n",
              "      <td>113502000.0</td>\n",
              "      <td>Celular ABXY</td>\n",
              "      <td>33</td>\n",
              "      <td>701900.0</td>\n",
              "      <td>23162700.0</td>\n",
              "    </tr>\n",
              "    <tr>\n",
              "      <th>1</th>\n",
              "      <td>Tienda_2</td>\n",
              "      <td>1.116344e+09</td>\n",
              "      <td>4.04</td>\n",
              "      <td>Iniciando en programación</td>\n",
              "      <td>65</td>\n",
              "      <td>58600.0</td>\n",
              "      <td>3809000.0</td>\n",
              "      <td>Juego de mesa</td>\n",
              "      <td>32</td>\n",
              "      <td>153000.0</td>\n",
              "      <td>4896000.0</td>\n",
              "    </tr>\n",
              "    <tr>\n",
              "      <th>2</th>\n",
              "      <td>Tienda_3</td>\n",
              "      <td>1.098020e+09</td>\n",
              "      <td>4.05</td>\n",
              "      <td>Kit de bancas</td>\n",
              "      <td>57</td>\n",
              "      <td>336000.0</td>\n",
              "      <td>19152000.0</td>\n",
              "      <td>Bloques de construcción</td>\n",
              "      <td>35</td>\n",
              "      <td>34700.0</td>\n",
              "      <td>1214500.0</td>\n",
              "    </tr>\n",
              "    <tr>\n",
              "      <th>3</th>\n",
              "      <td>Tienda_4</td>\n",
              "      <td>1.038376e+09</td>\n",
              "      <td>4.00</td>\n",
              "      <td>Cama box</td>\n",
              "      <td>62</td>\n",
              "      <td>473800.0</td>\n",
              "      <td>29375600.0</td>\n",
              "      <td>Guitarra eléctrica</td>\n",
              "      <td>33</td>\n",
              "      <td>626200.0</td>\n",
              "      <td>20664600.0</td>\n",
              "    </tr>\n",
              "  </tbody>\n",
              "</table>\n",
              "</div>"
            ],
            "text/plain": [
              "    Tiendas  Ingreso_Total  Calificacion          Prod. mas vendido  \\\n",
              "0  Tienda_1   1.150880e+09          3.98              TV LED UHD 4K   \n",
              "1  Tienda_2   1.116344e+09          4.04  Iniciando en programación   \n",
              "2  Tienda_3   1.098020e+09          4.05              Kit de bancas   \n",
              "3  Tienda_4   1.038376e+09          4.00                   Cama box   \n",
              "\n",
              "   Cant. mas vendido  Prec. mas vendido  Ingr. mas vendido  \\\n",
              "0                 60          1891700.0        113502000.0   \n",
              "1                 65            58600.0          3809000.0   \n",
              "2                 57           336000.0         19152000.0   \n",
              "3                 62           473800.0         29375600.0   \n",
              "\n",
              "       Prod. menos vendido  Cant. menos vendido  Prec. menos vendido  \\\n",
              "0             Celular ABXY                   33             701900.0   \n",
              "1            Juego de mesa                   32             153000.0   \n",
              "2  Bloques de construcción                   35              34700.0   \n",
              "3       Guitarra eléctrica                   33             626200.0   \n",
              "\n",
              "   Ingr. menos vendido  \n",
              "0           23162700.0  \n",
              "1            4896000.0  \n",
              "2            1214500.0  \n",
              "3           20664600.0  "
            ]
          },
          "execution_count": 65,
          "metadata": {},
          "output_type": "execute_result"
        }
      ],
      "source": [
        "tiendas_df['Prod. mas vendido'] = mas_vendido\n",
        "tiendas_df['Cant. mas vendido'] = cant_mas_vendido\n",
        "tiendas_df['Prec. mas vendido'] = precio_mas_vendido\n",
        "tiendas_df['Ingr. mas vendido'] = tiendas_df['Cant. mas vendido']*tiendas_df['Prec. mas vendido']\n",
        "tiendas_df['Prod. menos vendido'] = menos_vendido\n",
        "tiendas_df['Cant. menos vendido'] = cant_menos_vendido\n",
        "tiendas_df['Prec. menos vendido'] = precio_menos_vendido\n",
        "tiendas_df['Ingr. menos vendido'] = tiendas_df['Cant. menos vendido']*tiendas_df['Prec. menos vendido']\n",
        "\n",
        "tiendas_df"
      ]
    },
    {
      "cell_type": "markdown",
      "metadata": {},
      "source": [
        "> Todas las tiendas venden similares cantidades de su producto menos vendido.\n",
        "\n",
        "> Los productos mas vendidos de cada tienda se venden en cantidades similares.\n",
        "\n",
        "> Los ingresos que generan los productos menos y mas vendidos son mayores en las tiendas 1 y 4.\n",
        "\n",
        "> La tienda 2 es la que menos ingresos genera por las venta de sus productos mas vendidos."
      ]
    },
    {
      "cell_type": "markdown",
      "metadata": {},
      "source": [
        "buscamos el precio de cada producto"
      ]
    },
    {
      "cell_type": "markdown",
      "metadata": {
        "id": "Fl0cGi3bZKqU"
      },
      "source": [
        "## 1.5 Envío promedio por tienda"
      ]
    },
    {
      "cell_type": "markdown",
      "metadata": {},
      "source": [
        "Vamos a obtener el costo de envio promedio por tienda, el total de envios y el total gastado de envios"
      ]
    },
    {
      "cell_type": "code",
      "execution_count": 66,
      "metadata": {
        "id": "S2JeaCykZNy9"
      },
      "outputs": [],
      "source": [
        "tiendas = [tienda, tienda2, tienda3, tienda4]\n",
        "\n",
        "prom_cost_envio = []\n",
        "cant_envios = []\n",
        "total_gastado = []\n",
        "\n",
        "for df in tiendas:\n",
        "    promedio = df['Costo de envío'].mean()\n",
        "    cantidad = df['Costo de envío'].count()\n",
        "    total = df['Costo de envío'].sum()\n",
        "\n",
        "    prom_cost_envio.append(round(promedio, 2))\n",
        "    cant_envios.append(cantidad)\n",
        "    total_gastado.append(total)\n",
        "    "
      ]
    },
    {
      "cell_type": "markdown",
      "metadata": {},
      "source": [
        "Agregamos los resultados encontrados en el dataframe 'tiendas_df' para un mejor resumen"
      ]
    },
    {
      "cell_type": "code",
      "execution_count": 67,
      "metadata": {
        "id": "0tSdCie9ZQlt"
      },
      "outputs": [
        {
          "data": {
            "text/html": [
              "<div>\n",
              "<style scoped>\n",
              "    .dataframe tbody tr th:only-of-type {\n",
              "        vertical-align: middle;\n",
              "    }\n",
              "\n",
              "    .dataframe tbody tr th {\n",
              "        vertical-align: top;\n",
              "    }\n",
              "\n",
              "    .dataframe thead th {\n",
              "        text-align: right;\n",
              "    }\n",
              "</style>\n",
              "<table border=\"1\" class=\"dataframe\">\n",
              "  <thead>\n",
              "    <tr style=\"text-align: right;\">\n",
              "      <th></th>\n",
              "      <th>Tiendas</th>\n",
              "      <th>Ingreso_Total</th>\n",
              "      <th>Calificacion</th>\n",
              "      <th>Prod. mas vendido</th>\n",
              "      <th>Cant. mas vendido</th>\n",
              "      <th>Prec. mas vendido</th>\n",
              "      <th>Ingr. mas vendido</th>\n",
              "      <th>Prod. menos vendido</th>\n",
              "      <th>Cant. menos vendido</th>\n",
              "      <th>Prec. menos vendido</th>\n",
              "      <th>Ingr. menos vendido</th>\n",
              "      <th>Promedio Costo Envio</th>\n",
              "      <th>Total Envios</th>\n",
              "      <th>Total Gastado por Envios</th>\n",
              "    </tr>\n",
              "  </thead>\n",
              "  <tbody>\n",
              "    <tr>\n",
              "      <th>0</th>\n",
              "      <td>Tienda_1</td>\n",
              "      <td>1.150880e+09</td>\n",
              "      <td>3.98</td>\n",
              "      <td>TV LED UHD 4K</td>\n",
              "      <td>60</td>\n",
              "      <td>1891700.0</td>\n",
              "      <td>113502000.0</td>\n",
              "      <td>Celular ABXY</td>\n",
              "      <td>33</td>\n",
              "      <td>701900.0</td>\n",
              "      <td>23162700.0</td>\n",
              "      <td>26018.61</td>\n",
              "      <td>2359</td>\n",
              "      <td>61377900.0</td>\n",
              "    </tr>\n",
              "    <tr>\n",
              "      <th>1</th>\n",
              "      <td>Tienda_2</td>\n",
              "      <td>1.116344e+09</td>\n",
              "      <td>4.04</td>\n",
              "      <td>Iniciando en programación</td>\n",
              "      <td>65</td>\n",
              "      <td>58600.0</td>\n",
              "      <td>3809000.0</td>\n",
              "      <td>Juego de mesa</td>\n",
              "      <td>32</td>\n",
              "      <td>153000.0</td>\n",
              "      <td>4896000.0</td>\n",
              "      <td>25216.24</td>\n",
              "      <td>2359</td>\n",
              "      <td>59485100.0</td>\n",
              "    </tr>\n",
              "    <tr>\n",
              "      <th>2</th>\n",
              "      <td>Tienda_3</td>\n",
              "      <td>1.098020e+09</td>\n",
              "      <td>4.05</td>\n",
              "      <td>Kit de bancas</td>\n",
              "      <td>57</td>\n",
              "      <td>336000.0</td>\n",
              "      <td>19152000.0</td>\n",
              "      <td>Bloques de construcción</td>\n",
              "      <td>35</td>\n",
              "      <td>34700.0</td>\n",
              "      <td>1214500.0</td>\n",
              "      <td>24805.68</td>\n",
              "      <td>2359</td>\n",
              "      <td>58516600.0</td>\n",
              "    </tr>\n",
              "    <tr>\n",
              "      <th>3</th>\n",
              "      <td>Tienda_4</td>\n",
              "      <td>1.038376e+09</td>\n",
              "      <td>4.00</td>\n",
              "      <td>Cama box</td>\n",
              "      <td>62</td>\n",
              "      <td>473800.0</td>\n",
              "      <td>29375600.0</td>\n",
              "      <td>Guitarra eléctrica</td>\n",
              "      <td>33</td>\n",
              "      <td>626200.0</td>\n",
              "      <td>20664600.0</td>\n",
              "      <td>23459.46</td>\n",
              "      <td>2358</td>\n",
              "      <td>55317400.0</td>\n",
              "    </tr>\n",
              "  </tbody>\n",
              "</table>\n",
              "</div>"
            ],
            "text/plain": [
              "    Tiendas  Ingreso_Total  Calificacion          Prod. mas vendido  \\\n",
              "0  Tienda_1   1.150880e+09          3.98              TV LED UHD 4K   \n",
              "1  Tienda_2   1.116344e+09          4.04  Iniciando en programación   \n",
              "2  Tienda_3   1.098020e+09          4.05              Kit de bancas   \n",
              "3  Tienda_4   1.038376e+09          4.00                   Cama box   \n",
              "\n",
              "   Cant. mas vendido  Prec. mas vendido  Ingr. mas vendido  \\\n",
              "0                 60          1891700.0        113502000.0   \n",
              "1                 65            58600.0          3809000.0   \n",
              "2                 57           336000.0         19152000.0   \n",
              "3                 62           473800.0         29375600.0   \n",
              "\n",
              "       Prod. menos vendido  Cant. menos vendido  Prec. menos vendido  \\\n",
              "0             Celular ABXY                   33             701900.0   \n",
              "1            Juego de mesa                   32             153000.0   \n",
              "2  Bloques de construcción                   35              34700.0   \n",
              "3       Guitarra eléctrica                   33             626200.0   \n",
              "\n",
              "   Ingr. menos vendido  Promedio Costo Envio  Total Envios  \\\n",
              "0           23162700.0              26018.61          2359   \n",
              "1            4896000.0              25216.24          2359   \n",
              "2            1214500.0              24805.68          2359   \n",
              "3           20664600.0              23459.46          2358   \n",
              "\n",
              "   Total Gastado por Envios  \n",
              "0                61377900.0  \n",
              "1                59485100.0  \n",
              "2                58516600.0  \n",
              "3                55317400.0  "
            ]
          },
          "execution_count": 67,
          "metadata": {},
          "output_type": "execute_result"
        }
      ],
      "source": [
        "tiendas_df['Promedio Costo Envio'] = prom_cost_envio\n",
        "tiendas_df['Total Envios'] = cant_envios\n",
        "tiendas_df['Total Gastado por Envios'] = total_gastado\n",
        "\n",
        "tiendas_df"
      ]
    },
    {
      "cell_type": "markdown",
      "metadata": {},
      "source": [
        "Vamos a calcular el ingreso neto por tienda, cuyo valor se obtiene restando al Ingreso_Total, el Total Gastado por Envios."
      ]
    },
    {
      "cell_type": "code",
      "execution_count": 68,
      "metadata": {},
      "outputs": [
        {
          "data": {
            "text/html": [
              "<div>\n",
              "<style scoped>\n",
              "    .dataframe tbody tr th:only-of-type {\n",
              "        vertical-align: middle;\n",
              "    }\n",
              "\n",
              "    .dataframe tbody tr th {\n",
              "        vertical-align: top;\n",
              "    }\n",
              "\n",
              "    .dataframe thead th {\n",
              "        text-align: right;\n",
              "    }\n",
              "</style>\n",
              "<table border=\"1\" class=\"dataframe\">\n",
              "  <thead>\n",
              "    <tr style=\"text-align: right;\">\n",
              "      <th></th>\n",
              "      <th>Tiendas</th>\n",
              "      <th>Ingreso_Total</th>\n",
              "      <th>Calificacion</th>\n",
              "      <th>Prod. mas vendido</th>\n",
              "      <th>Cant. mas vendido</th>\n",
              "      <th>Prec. mas vendido</th>\n",
              "      <th>Ingr. mas vendido</th>\n",
              "      <th>Prod. menos vendido</th>\n",
              "      <th>Cant. menos vendido</th>\n",
              "      <th>Prec. menos vendido</th>\n",
              "      <th>Ingr. menos vendido</th>\n",
              "      <th>Promedio Costo Envio</th>\n",
              "      <th>Total Envios</th>\n",
              "      <th>Total Gastado por Envios</th>\n",
              "      <th>Ingreso Neto</th>\n",
              "    </tr>\n",
              "  </thead>\n",
              "  <tbody>\n",
              "    <tr>\n",
              "      <th>0</th>\n",
              "      <td>Tienda_1</td>\n",
              "      <td>1.150880e+09</td>\n",
              "      <td>3.98</td>\n",
              "      <td>TV LED UHD 4K</td>\n",
              "      <td>60</td>\n",
              "      <td>1891700.0</td>\n",
              "      <td>113502000.0</td>\n",
              "      <td>Celular ABXY</td>\n",
              "      <td>33</td>\n",
              "      <td>701900.0</td>\n",
              "      <td>23162700.0</td>\n",
              "      <td>26018.61</td>\n",
              "      <td>2359</td>\n",
              "      <td>61377900.0</td>\n",
              "      <td>1.089502e+09</td>\n",
              "    </tr>\n",
              "    <tr>\n",
              "      <th>1</th>\n",
              "      <td>Tienda_2</td>\n",
              "      <td>1.116344e+09</td>\n",
              "      <td>4.04</td>\n",
              "      <td>Iniciando en programación</td>\n",
              "      <td>65</td>\n",
              "      <td>58600.0</td>\n",
              "      <td>3809000.0</td>\n",
              "      <td>Juego de mesa</td>\n",
              "      <td>32</td>\n",
              "      <td>153000.0</td>\n",
              "      <td>4896000.0</td>\n",
              "      <td>25216.24</td>\n",
              "      <td>2359</td>\n",
              "      <td>59485100.0</td>\n",
              "      <td>1.056858e+09</td>\n",
              "    </tr>\n",
              "    <tr>\n",
              "      <th>2</th>\n",
              "      <td>Tienda_3</td>\n",
              "      <td>1.098020e+09</td>\n",
              "      <td>4.05</td>\n",
              "      <td>Kit de bancas</td>\n",
              "      <td>57</td>\n",
              "      <td>336000.0</td>\n",
              "      <td>19152000.0</td>\n",
              "      <td>Bloques de construcción</td>\n",
              "      <td>35</td>\n",
              "      <td>34700.0</td>\n",
              "      <td>1214500.0</td>\n",
              "      <td>24805.68</td>\n",
              "      <td>2359</td>\n",
              "      <td>58516600.0</td>\n",
              "      <td>1.039503e+09</td>\n",
              "    </tr>\n",
              "    <tr>\n",
              "      <th>3</th>\n",
              "      <td>Tienda_4</td>\n",
              "      <td>1.038376e+09</td>\n",
              "      <td>4.00</td>\n",
              "      <td>Cama box</td>\n",
              "      <td>62</td>\n",
              "      <td>473800.0</td>\n",
              "      <td>29375600.0</td>\n",
              "      <td>Guitarra eléctrica</td>\n",
              "      <td>33</td>\n",
              "      <td>626200.0</td>\n",
              "      <td>20664600.0</td>\n",
              "      <td>23459.46</td>\n",
              "      <td>2358</td>\n",
              "      <td>55317400.0</td>\n",
              "      <td>9.830583e+08</td>\n",
              "    </tr>\n",
              "  </tbody>\n",
              "</table>\n",
              "</div>"
            ],
            "text/plain": [
              "    Tiendas  Ingreso_Total  Calificacion          Prod. mas vendido  \\\n",
              "0  Tienda_1   1.150880e+09          3.98              TV LED UHD 4K   \n",
              "1  Tienda_2   1.116344e+09          4.04  Iniciando en programación   \n",
              "2  Tienda_3   1.098020e+09          4.05              Kit de bancas   \n",
              "3  Tienda_4   1.038376e+09          4.00                   Cama box   \n",
              "\n",
              "   Cant. mas vendido  Prec. mas vendido  Ingr. mas vendido  \\\n",
              "0                 60          1891700.0        113502000.0   \n",
              "1                 65            58600.0          3809000.0   \n",
              "2                 57           336000.0         19152000.0   \n",
              "3                 62           473800.0         29375600.0   \n",
              "\n",
              "       Prod. menos vendido  Cant. menos vendido  Prec. menos vendido  \\\n",
              "0             Celular ABXY                   33             701900.0   \n",
              "1            Juego de mesa                   32             153000.0   \n",
              "2  Bloques de construcción                   35              34700.0   \n",
              "3       Guitarra eléctrica                   33             626200.0   \n",
              "\n",
              "   Ingr. menos vendido  Promedio Costo Envio  Total Envios  \\\n",
              "0           23162700.0              26018.61          2359   \n",
              "1            4896000.0              25216.24          2359   \n",
              "2            1214500.0              24805.68          2359   \n",
              "3           20664600.0              23459.46          2358   \n",
              "\n",
              "   Total Gastado por Envios  Ingreso Neto  \n",
              "0                61377900.0  1.089502e+09  \n",
              "1                59485100.0  1.056858e+09  \n",
              "2                58516600.0  1.039503e+09  \n",
              "3                55317400.0  9.830583e+08  "
            ]
          },
          "execution_count": 68,
          "metadata": {},
          "output_type": "execute_result"
        }
      ],
      "source": [
        "tiendas_df['Ingreso Neto'] = tiendas_df['Ingreso_Total'] - tiendas_df['Total Gastado por Envios']\n",
        "tiendas_df"
      ]
    },
    {
      "cell_type": "markdown",
      "metadata": {},
      "source": [
        "> La tienda que mayor gasto tiene por costo de envio es la 1.\n",
        "\n",
        "> La tienda que menor gasto tiene por costo de envio es la 4.\n",
        "\n",
        "> Al calcular el ingreso neto, queda evidenciado que la tienda 4 es la que genera menor rentabilidad."
      ]
    },
    {
      "cell_type": "markdown",
      "metadata": {},
      "source": [
        "# 2. Visualizaciones"
      ]
    },
    {
      "cell_type": "markdown",
      "metadata": {},
      "source": [
        "Vamos a crear visualizaciones que nos permitan interpretar mejor los hallazgos encontrados"
      ]
    },
    {
      "cell_type": "markdown",
      "metadata": {},
      "source": [
        "## 2.1 Ingreso Neto por tienda"
      ]
    },
    {
      "cell_type": "code",
      "execution_count": 69,
      "metadata": {},
      "outputs": [
        {
          "data": {
            "image/png": "[encoded data removed]",
            "text/plain": [
              "<Figure size 720x432 with 1 Axes>"
            ]
          },
          "metadata": {
            "needs_background": "light"
          },
          "output_type": "display_data"
        }
      ],
      "source": [
        "import matplotlib.pyplot as plt\n",
        "\n",
        "colors = ['#6DE1D2', '#FFD63A', '#FFA955', '#F75A5A']\n",
        "plt.figure(figsize=(10,6))\n",
        "plt.bar(x=tiendas_df['Tiendas'], height=tiendas_df['Ingreso Neto'], color = colors)\n",
        "plt.title('Ingreso Neto por tienda', fontsize=14, fontweight='bold')\n",
        "plt.show()"
      ]
    },
    {
      "cell_type": "markdown",
      "metadata": {},
      "source": [
        "> La grafica nos muestra que el ingreso neto de cada tienda son muy similares entre las tiendas.\n",
        "\n",
        "> La tienda 1 es la que mayor ingreso neto posee.\n",
        "\n",
        "> La tienda 4 es la que menor ingreso neto presenta."
      ]
    },
    {
      "cell_type": "markdown",
      "metadata": {},
      "source": [
        "## 2.2 Categorias mas vendidas"
      ]
    },
    {
      "cell_type": "code",
      "execution_count": 70,
      "metadata": {},
      "outputs": [
        {
          "data": {
            "text/html": [
              "<div>\n",
              "<style scoped>\n",
              "    .dataframe tbody tr th:only-of-type {\n",
              "        vertical-align: middle;\n",
              "    }\n",
              "\n",
              "    .dataframe tbody tr th {\n",
              "        vertical-align: top;\n",
              "    }\n",
              "\n",
              "    .dataframe thead th {\n",
              "        text-align: right;\n",
              "    }\n",
              "</style>\n",
              "<table border=\"1\" class=\"dataframe\">\n",
              "  <thead>\n",
              "    <tr style=\"text-align: right;\">\n",
              "      <th></th>\n",
              "      <th>Categoria</th>\n",
              "      <th>Tiendas</th>\n",
              "      <th>Cantidad</th>\n",
              "    </tr>\n",
              "  </thead>\n",
              "  <tbody>\n",
              "    <tr>\n",
              "      <th>0</th>\n",
              "      <td>Muebles</td>\n",
              "      <td>Cantidad_T1</td>\n",
              "      <td>465</td>\n",
              "    </tr>\n",
              "    <tr>\n",
              "      <th>1</th>\n",
              "      <td>Electrónicos</td>\n",
              "      <td>Cantidad_T1</td>\n",
              "      <td>448</td>\n",
              "    </tr>\n",
              "    <tr>\n",
              "      <th>2</th>\n",
              "      <td>Juguetes</td>\n",
              "      <td>Cantidad_T1</td>\n",
              "      <td>324</td>\n",
              "    </tr>\n",
              "    <tr>\n",
              "      <th>3</th>\n",
              "      <td>Electrodomésticos</td>\n",
              "      <td>Cantidad_T1</td>\n",
              "      <td>312</td>\n",
              "    </tr>\n",
              "    <tr>\n",
              "      <th>4</th>\n",
              "      <td>Deportes y diversión</td>\n",
              "      <td>Cantidad_T1</td>\n",
              "      <td>284</td>\n",
              "    </tr>\n",
              "    <tr>\n",
              "      <th>5</th>\n",
              "      <td>Instrumentos musicales</td>\n",
              "      <td>Cantidad_T1</td>\n",
              "      <td>182</td>\n",
              "    </tr>\n",
              "    <tr>\n",
              "      <th>6</th>\n",
              "      <td>Libros</td>\n",
              "      <td>Cantidad_T1</td>\n",
              "      <td>173</td>\n",
              "    </tr>\n",
              "    <tr>\n",
              "      <th>7</th>\n",
              "      <td>Artículos para el hogar</td>\n",
              "      <td>Cantidad_T1</td>\n",
              "      <td>171</td>\n",
              "    </tr>\n",
              "    <tr>\n",
              "      <th>8</th>\n",
              "      <td>Muebles</td>\n",
              "      <td>Cantidad_T2</td>\n",
              "      <td>442</td>\n",
              "    </tr>\n",
              "    <tr>\n",
              "      <th>9</th>\n",
              "      <td>Electrónicos</td>\n",
              "      <td>Cantidad_T2</td>\n",
              "      <td>422</td>\n",
              "    </tr>\n",
              "    <tr>\n",
              "      <th>10</th>\n",
              "      <td>Juguetes</td>\n",
              "      <td>Cantidad_T2</td>\n",
              "      <td>313</td>\n",
              "    </tr>\n",
              "    <tr>\n",
              "      <th>11</th>\n",
              "      <td>Electrodomésticos</td>\n",
              "      <td>Cantidad_T2</td>\n",
              "      <td>305</td>\n",
              "    </tr>\n",
              "    <tr>\n",
              "      <th>12</th>\n",
              "      <td>Deportes y diversión</td>\n",
              "      <td>Cantidad_T2</td>\n",
              "      <td>275</td>\n",
              "    </tr>\n",
              "    <tr>\n",
              "      <th>13</th>\n",
              "      <td>Instrumentos musicales</td>\n",
              "      <td>Cantidad_T2</td>\n",
              "      <td>224</td>\n",
              "    </tr>\n",
              "    <tr>\n",
              "      <th>14</th>\n",
              "      <td>Libros</td>\n",
              "      <td>Cantidad_T2</td>\n",
              "      <td>197</td>\n",
              "    </tr>\n",
              "    <tr>\n",
              "      <th>15</th>\n",
              "      <td>Artículos para el hogar</td>\n",
              "      <td>Cantidad_T2</td>\n",
              "      <td>181</td>\n",
              "    </tr>\n",
              "    <tr>\n",
              "      <th>16</th>\n",
              "      <td>Muebles</td>\n",
              "      <td>Cantidad_T3</td>\n",
              "      <td>499</td>\n",
              "    </tr>\n",
              "    <tr>\n",
              "      <th>17</th>\n",
              "      <td>Electrónicos</td>\n",
              "      <td>Cantidad_T3</td>\n",
              "      <td>451</td>\n",
              "    </tr>\n",
              "    <tr>\n",
              "      <th>18</th>\n",
              "      <td>Juguetes</td>\n",
              "      <td>Cantidad_T3</td>\n",
              "      <td>315</td>\n",
              "    </tr>\n",
              "    <tr>\n",
              "      <th>19</th>\n",
              "      <td>Electrodomésticos</td>\n",
              "      <td>Cantidad_T3</td>\n",
              "      <td>278</td>\n",
              "    </tr>\n",
              "    <tr>\n",
              "      <th>20</th>\n",
              "      <td>Deportes y diversión</td>\n",
              "      <td>Cantidad_T3</td>\n",
              "      <td>277</td>\n",
              "    </tr>\n",
              "    <tr>\n",
              "      <th>21</th>\n",
              "      <td>Instrumentos musicales</td>\n",
              "      <td>Cantidad_T3</td>\n",
              "      <td>177</td>\n",
              "    </tr>\n",
              "    <tr>\n",
              "      <th>22</th>\n",
              "      <td>Libros</td>\n",
              "      <td>Cantidad_T3</td>\n",
              "      <td>185</td>\n",
              "    </tr>\n",
              "    <tr>\n",
              "      <th>23</th>\n",
              "      <td>Artículos para el hogar</td>\n",
              "      <td>Cantidad_T3</td>\n",
              "      <td>177</td>\n",
              "    </tr>\n",
              "    <tr>\n",
              "      <th>24</th>\n",
              "      <td>Muebles</td>\n",
              "      <td>Cantidad_T4</td>\n",
              "      <td>480</td>\n",
              "    </tr>\n",
              "    <tr>\n",
              "      <th>25</th>\n",
              "      <td>Electrónicos</td>\n",
              "      <td>Cantidad_T4</td>\n",
              "      <td>451</td>\n",
              "    </tr>\n",
              "    <tr>\n",
              "      <th>26</th>\n",
              "      <td>Juguetes</td>\n",
              "      <td>Cantidad_T4</td>\n",
              "      <td>338</td>\n",
              "    </tr>\n",
              "    <tr>\n",
              "      <th>27</th>\n",
              "      <td>Electrodomésticos</td>\n",
              "      <td>Cantidad_T4</td>\n",
              "      <td>254</td>\n",
              "    </tr>\n",
              "    <tr>\n",
              "      <th>28</th>\n",
              "      <td>Deportes y diversión</td>\n",
              "      <td>Cantidad_T4</td>\n",
              "      <td>277</td>\n",
              "    </tr>\n",
              "    <tr>\n",
              "      <th>29</th>\n",
              "      <td>Instrumentos musicales</td>\n",
              "      <td>Cantidad_T4</td>\n",
              "      <td>170</td>\n",
              "    </tr>\n",
              "    <tr>\n",
              "      <th>30</th>\n",
              "      <td>Libros</td>\n",
              "      <td>Cantidad_T4</td>\n",
              "      <td>187</td>\n",
              "    </tr>\n",
              "    <tr>\n",
              "      <th>31</th>\n",
              "      <td>Artículos para el hogar</td>\n",
              "      <td>Cantidad_T4</td>\n",
              "      <td>201</td>\n",
              "    </tr>\n",
              "  </tbody>\n",
              "</table>\n",
              "</div>"
            ],
            "text/plain": [
              "                  Categoria      Tiendas  Cantidad\n",
              "0                   Muebles  Cantidad_T1       465\n",
              "1              Electrónicos  Cantidad_T1       448\n",
              "2                  Juguetes  Cantidad_T1       324\n",
              "3         Electrodomésticos  Cantidad_T1       312\n",
              "4      Deportes y diversión  Cantidad_T1       284\n",
              "5    Instrumentos musicales  Cantidad_T1       182\n",
              "6                    Libros  Cantidad_T1       173\n",
              "7   Artículos para el hogar  Cantidad_T1       171\n",
              "8                   Muebles  Cantidad_T2       442\n",
              "9              Electrónicos  Cantidad_T2       422\n",
              "10                 Juguetes  Cantidad_T2       313\n",
              "11        Electrodomésticos  Cantidad_T2       305\n",
              "12     Deportes y diversión  Cantidad_T2       275\n",
              "13   Instrumentos musicales  Cantidad_T2       224\n",
              "14                   Libros  Cantidad_T2       197\n",
              "15  Artículos para el hogar  Cantidad_T2       181\n",
              "16                  Muebles  Cantidad_T3       499\n",
              "17             Electrónicos  Cantidad_T3       451\n",
              "18                 Juguetes  Cantidad_T3       315\n",
              "19        Electrodomésticos  Cantidad_T3       278\n",
              "20     Deportes y diversión  Cantidad_T3       277\n",
              "21   Instrumentos musicales  Cantidad_T3       177\n",
              "22                   Libros  Cantidad_T3       185\n",
              "23  Artículos para el hogar  Cantidad_T3       177\n",
              "24                  Muebles  Cantidad_T4       480\n",
              "25             Electrónicos  Cantidad_T4       451\n",
              "26                 Juguetes  Cantidad_T4       338\n",
              "27        Electrodomésticos  Cantidad_T4       254\n",
              "28     Deportes y diversión  Cantidad_T4       277\n",
              "29   Instrumentos musicales  Cantidad_T4       170\n",
              "30                   Libros  Cantidad_T4       187\n",
              "31  Artículos para el hogar  Cantidad_T4       201"
            ]
          },
          "execution_count": 70,
          "metadata": {},
          "output_type": "execute_result"
        }
      ],
      "source": [
        "df_melt = df_categorias_tiendas.melt(id_vars='Categoria',\n",
        "                                     value_vars=['Cantidad_T1', 'Cantidad_T2', 'Cantidad_T3', 'Cantidad_T4'],\n",
        "                                     var_name='Tiendas',\n",
        "                                     value_name='Cantidad')\n",
        "\n",
        "df_melt"
      ]
    },
    {
      "cell_type": "code",
      "execution_count": 71,
      "metadata": {},
      "outputs": [
        {
          "name": "stdout",
          "output_type": "stream",
          "text": [
            "<class 'pandas.core.frame.DataFrame'>\n",
            "RangeIndex: 32 entries, 0 to 31\n",
            "Data columns (total 3 columns):\n",
            " #   Column     Non-Null Count  Dtype \n",
            "---  ------     --------------  ----- \n",
            " 0   Categoria  32 non-null     object\n",
            " 1   Tiendas    32 non-null     object\n",
            " 2   Cantidad   32 non-null     int64 \n",
            "dtypes: int64(1), object(2)\n",
            "memory usage: 896.0+ bytes\n"
          ]
        }
      ],
      "source": [
        "df_melt['Cantidad'] = pd.to_numeric(df_melt['Cantidad'], errors='coerce')\n",
        "df_melt.info()"
      ]
    },
    {
      "cell_type": "code",
      "execution_count": 79,
      "metadata": {},
      "outputs": [
        {
          "data": {
            "image/png": "[encoded data removed]",
            "text/plain": [
              "<Figure size 720x576 with 1 Axes>"
            ]
          },
          "metadata": {
            "needs_background": "light"
          },
          "output_type": "display_data"
        }
      ],
      "source": [
        "import seaborn as sns\n",
        "import matplotlib.pyplot as plt\n",
        "\n",
        "plt.figure(figsize=(10,8))\n",
        "sns.barplot(data=df_melt, y='Categoria', x='Cantidad', hue='Tiendas')\n",
        "plt.title(\"Cantidad por categoría y trimestre\")\n",
        "plt.ylabel(\"Categoría\")\n",
        "plt.xlabel(\"Cantidad\")\n",
        "plt.legend(title='Cantidad por tienda')\n",
        "plt.show()"
      ]
    }
  ],
  "metadata": {
    "colab": {
      "provenance": []
    },
    "kernelspec": {
      "display_name": "data",
      "language": "python",
      "name": "python3"
    },
    "language_info": {
      "codemirror_mode": {
        "name": "ipython",
        "version": 3
      },
      "file_extension": ".py",
      "mimetype": "text/x-python",
      "name": "python",
      "nbconvert_exporter": "python",
      "pygments_lexer": "ipython3",
      "version": "3.10.8"
    }
  },
  "nbformat": 4,
  "nbformat_minor": 0
}
