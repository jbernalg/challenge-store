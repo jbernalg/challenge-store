{
  "cells": [
    {
      "cell_type": "markdown",
      "metadata": {
        "id": "RhEdWd9YUR6H"
      },
      "source": [
        "### Importación de datos\n",
        "\n"
      ]
    },
    {
      "cell_type": "code",
      "execution_count": 2,
      "metadata": {
        "colab": {
          "base_uri": "https://localhost:8080/",
          "height": 206
        },
        "id": "T3EvaeQ_INIL",
        "outputId": "e9c5efe1-82a3-43ab-e8d7-6d01e4fa3514"
      },
      "outputs": [
        {
          "data": {
            "text/html": [
              "<div>\n",
              "<style scoped>\n",
              "    .dataframe tbody tr th:only-of-type {\n",
              "        vertical-align: middle;\n",
              "    }\n",
              "\n",
              "    .dataframe tbody tr th {\n",
              "        vertical-align: top;\n",
              "    }\n",
              "\n",
              "    .dataframe thead th {\n",
              "        text-align: right;\n",
              "    }\n",
              "</style>\n",
              "<table border=\"1\" class=\"dataframe\">\n",
              "  <thead>\n",
              "    <tr style=\"text-align: right;\">\n",
              "      <th></th>\n",
              "      <th>Producto</th>\n",
              "      <th>Categoría del Producto</th>\n",
              "      <th>Precio</th>\n",
              "      <th>Costo de envío</th>\n",
              "      <th>Fecha de Compra</th>\n",
              "      <th>Vendedor</th>\n",
              "      <th>Lugar de Compra</th>\n",
              "      <th>Calificación</th>\n",
              "      <th>Método de pago</th>\n",
              "      <th>Cantidad de cuotas</th>\n",
              "      <th>lat</th>\n",
              "      <th>lon</th>\n",
              "    </tr>\n",
              "  </thead>\n",
              "  <tbody>\n",
              "    <tr>\n",
              "      <th>0</th>\n",
              "      <td>Asistente virtual</td>\n",
              "      <td>Electrónicos</td>\n",
              "      <td>164300.0</td>\n",
              "      <td>6900.0</td>\n",
              "      <td>16/01/2021</td>\n",
              "      <td>Pedro Gomez</td>\n",
              "      <td>Bogotá</td>\n",
              "      <td>4</td>\n",
              "      <td>Tarjeta de crédito</td>\n",
              "      <td>8</td>\n",
              "      <td>4.60971</td>\n",
              "      <td>-74.08175</td>\n",
              "    </tr>\n",
              "    <tr>\n",
              "      <th>1</th>\n",
              "      <td>Mesa de comedor</td>\n",
              "      <td>Muebles</td>\n",
              "      <td>192300.0</td>\n",
              "      <td>8400.0</td>\n",
              "      <td>18/05/2022</td>\n",
              "      <td>Beatriz Morales</td>\n",
              "      <td>Medellín</td>\n",
              "      <td>1</td>\n",
              "      <td>Tarjeta de crédito</td>\n",
              "      <td>4</td>\n",
              "      <td>6.25184</td>\n",
              "      <td>-75.56359</td>\n",
              "    </tr>\n",
              "    <tr>\n",
              "      <th>2</th>\n",
              "      <td>Juego de mesa</td>\n",
              "      <td>Juguetes</td>\n",
              "      <td>209600.0</td>\n",
              "      <td>15900.0</td>\n",
              "      <td>15/03/2021</td>\n",
              "      <td>Juan Fernandez</td>\n",
              "      <td>Cartagena</td>\n",
              "      <td>1</td>\n",
              "      <td>Tarjeta de crédito</td>\n",
              "      <td>1</td>\n",
              "      <td>10.39972</td>\n",
              "      <td>-75.51444</td>\n",
              "    </tr>\n",
              "    <tr>\n",
              "      <th>3</th>\n",
              "      <td>Microondas</td>\n",
              "      <td>Electrodomésticos</td>\n",
              "      <td>757500.0</td>\n",
              "      <td>41000.0</td>\n",
              "      <td>03/05/2022</td>\n",
              "      <td>Juan Fernandez</td>\n",
              "      <td>Cali</td>\n",
              "      <td>4</td>\n",
              "      <td>Nequi</td>\n",
              "      <td>1</td>\n",
              "      <td>3.43722</td>\n",
              "      <td>-76.52250</td>\n",
              "    </tr>\n",
              "    <tr>\n",
              "      <th>4</th>\n",
              "      <td>Silla de oficina</td>\n",
              "      <td>Muebles</td>\n",
              "      <td>335200.0</td>\n",
              "      <td>20200.0</td>\n",
              "      <td>07/11/2020</td>\n",
              "      <td>Maria Alfonso</td>\n",
              "      <td>Medellín</td>\n",
              "      <td>5</td>\n",
              "      <td>Nequi</td>\n",
              "      <td>1</td>\n",
              "      <td>6.25184</td>\n",
              "      <td>-75.56359</td>\n",
              "    </tr>\n",
              "  </tbody>\n",
              "</table>\n",
              "</div>"
            ],
            "text/plain": [
              "            Producto Categoría del Producto    Precio  Costo de envío  \\\n",
              "0  Asistente virtual           Electrónicos  164300.0          6900.0   \n",
              "1    Mesa de comedor                Muebles  192300.0          8400.0   \n",
              "2      Juego de mesa               Juguetes  209600.0         15900.0   \n",
              "3         Microondas      Electrodomésticos  757500.0         41000.0   \n",
              "4   Silla de oficina                Muebles  335200.0         20200.0   \n",
              "\n",
              "  Fecha de Compra         Vendedor Lugar de Compra  Calificación  \\\n",
              "0      16/01/2021      Pedro Gomez          Bogotá             4   \n",
              "1      18/05/2022  Beatriz Morales        Medellín             1   \n",
              "2      15/03/2021   Juan Fernandez       Cartagena             1   \n",
              "3      03/05/2022   Juan Fernandez            Cali             4   \n",
              "4      07/11/2020    Maria Alfonso        Medellín             5   \n",
              "\n",
              "       Método de pago  Cantidad de cuotas       lat       lon  \n",
              "0  Tarjeta de crédito                   8   4.60971 -74.08175  \n",
              "1  Tarjeta de crédito                   4   6.25184 -75.56359  \n",
              "2  Tarjeta de crédito                   1  10.39972 -75.51444  \n",
              "3               Nequi                   1   3.43722 -76.52250  \n",
              "4               Nequi                   1   6.25184 -75.56359  "
            ]
          },
          "execution_count": 2,
          "metadata": {},
          "output_type": "execute_result"
        }
      ],
      "source": [
        "import pandas as pd\n",
        "\n",
        "url = \"https://raw.githubusercontent.com/alura-es-cursos/challenge1-data-science-latam/refs/heads/main/base-de-datos-challenge1-latam/tienda_1%20.csv\"\n",
        "url2 = \"https://raw.githubusercontent.com/alura-es-cursos/challenge1-data-science-latam/refs/heads/main/base-de-datos-challenge1-latam/tienda_2.csv\"\n",
        "url3 = \"https://raw.githubusercontent.com/alura-es-cursos/challenge1-data-science-latam/refs/heads/main/base-de-datos-challenge1-latam/tienda_3.csv\"\n",
        "url4 = \"https://raw.githubusercontent.com/alura-es-cursos/challenge1-data-science-latam/refs/heads/main/base-de-datos-challenge1-latam/tienda_4.csv\"\n",
        "\n",
        "tienda = pd.read_csv(url)\n",
        "tienda2 = pd.read_csv(url2)\n",
        "tienda3 = pd.read_csv(url3)\n",
        "tienda4 = pd.read_csv(url4)\n",
        "\n",
        "tienda.head()"
      ]
    },
    {
      "cell_type": "code",
      "execution_count": 3,
      "metadata": {},
      "outputs": [
        {
          "data": {
            "text/plain": [
              "(2359, 12)"
            ]
          },
          "execution_count": 3,
          "metadata": {},
          "output_type": "execute_result"
        }
      ],
      "source": [
        "tienda.shape"
      ]
    },
    {
      "cell_type": "markdown",
      "metadata": {
        "id": "X62IW3KFUIYm"
      },
      "source": [
        "# 1. Análisis de facturación"
      ]
    },
    {
      "cell_type": "markdown",
      "metadata": {},
      "source": [
        "## 1.1 Ingreso total por tienda"
      ]
    },
    {
      "cell_type": "code",
      "execution_count": 35,
      "metadata": {},
      "outputs": [],
      "source": [
        "# lista para guardar los ingresos de cada tienda\n",
        "ingresos = []\n",
        "\n",
        "# lista con los nombres de cada tienda\n",
        "tiendas = ['Tienda_1', 'Tienda_2', 'Tienda_3', 'Tienda_4']"
      ]
    },
    {
      "cell_type": "code",
      "execution_count": 36,
      "metadata": {
        "id": "xykobSftV64I"
      },
      "outputs": [
        {
          "data": {
            "text/plain": [
              "1150880400.0"
            ]
          },
          "execution_count": 36,
          "metadata": {},
          "output_type": "execute_result"
        }
      ],
      "source": [
        "ingreso_total_T1 = tienda.Precio.sum()\n",
        "ingresos.append(ingreso_total_T1)\n",
        "ingreso_total_T1"
      ]
    },
    {
      "cell_type": "code",
      "execution_count": 37,
      "metadata": {
        "id": "KDyr8E71V3m-"
      },
      "outputs": [
        {
          "data": {
            "text/plain": [
              "1116343500.0"
            ]
          },
          "execution_count": 37,
          "metadata": {},
          "output_type": "execute_result"
        }
      ],
      "source": [
        "ingreso_total_T2 = tienda2.Precio.sum()\n",
        "ingresos.append(ingreso_total_T2)\n",
        "ingreso_total_T2"
      ]
    },
    {
      "cell_type": "code",
      "execution_count": 38,
      "metadata": {},
      "outputs": [
        {
          "data": {
            "text/plain": [
              "1098019600.0"
            ]
          },
          "execution_count": 38,
          "metadata": {},
          "output_type": "execute_result"
        }
      ],
      "source": [
        "ingreso_total_T3 = tienda3.Precio.sum()\n",
        "ingresos.append(ingreso_total_T3)\n",
        "ingreso_total_T3"
      ]
    },
    {
      "cell_type": "code",
      "execution_count": 39,
      "metadata": {},
      "outputs": [
        {
          "data": {
            "text/plain": [
              "1038375700.0"
            ]
          },
          "execution_count": 39,
          "metadata": {},
          "output_type": "execute_result"
        }
      ],
      "source": [
        "ingreso_total_T4 = tienda4.Precio.sum()\n",
        "ingresos.append(ingreso_total_T4)\n",
        "ingreso_total_T4"
      ]
    },
    {
      "cell_type": "code",
      "execution_count": 40,
      "metadata": {},
      "outputs": [
        {
          "data": {
            "text/html": [
              "<div>\n",
              "<style scoped>\n",
              "    .dataframe tbody tr th:only-of-type {\n",
              "        vertical-align: middle;\n",
              "    }\n",
              "\n",
              "    .dataframe tbody tr th {\n",
              "        vertical-align: top;\n",
              "    }\n",
              "\n",
              "    .dataframe thead th {\n",
              "        text-align: right;\n",
              "    }\n",
              "</style>\n",
              "<table border=\"1\" class=\"dataframe\">\n",
              "  <thead>\n",
              "    <tr style=\"text-align: right;\">\n",
              "      <th></th>\n",
              "      <th>Tiendas</th>\n",
              "      <th>Ingreso_Total</th>\n",
              "    </tr>\n",
              "  </thead>\n",
              "  <tbody>\n",
              "    <tr>\n",
              "      <th>0</th>\n",
              "      <td>Tienda_1</td>\n",
              "      <td>1.150880e+09</td>\n",
              "    </tr>\n",
              "    <tr>\n",
              "      <th>1</th>\n",
              "      <td>Tienda_2</td>\n",
              "      <td>1.116344e+09</td>\n",
              "    </tr>\n",
              "    <tr>\n",
              "      <th>2</th>\n",
              "      <td>Tienda_3</td>\n",
              "      <td>1.098020e+09</td>\n",
              "    </tr>\n",
              "    <tr>\n",
              "      <th>3</th>\n",
              "      <td>Tienda_4</td>\n",
              "      <td>1.038376e+09</td>\n",
              "    </tr>\n",
              "  </tbody>\n",
              "</table>\n",
              "</div>"
            ],
            "text/plain": [
              "    Tiendas  Ingreso_Total\n",
              "0  Tienda_1   1.150880e+09\n",
              "1  Tienda_2   1.116344e+09\n",
              "2  Tienda_3   1.098020e+09\n",
              "3  Tienda_4   1.038376e+09"
            ]
          },
          "execution_count": 40,
          "metadata": {},
          "output_type": "execute_result"
        }
      ],
      "source": [
        "ingresos_tienda_df = pd.DataFrame({\n",
        "    'Tiendas': tiendas,\n",
        "    'Ingreso_Total':ingresos\n",
        "})\n",
        "\n",
        "ingresos_tienda_df"
      ]
    },
    {
      "cell_type": "markdown",
      "metadata": {},
      "source": [
        "> La tienda 4 es la que menos ingresos ha tenido\n",
        "\n",
        "> La tienda 1 es la que presenta mayor ingresos."
      ]
    },
    {
      "cell_type": "markdown",
      "metadata": {
        "id": "2V_vcAPzWZmR"
      },
      "source": [
        "# 2. Ventas por categoría"
      ]
    },
    {
      "cell_type": "code",
      "execution_count": 8,
      "metadata": {
        "id": "A34YupIuYhfF"
      },
      "outputs": [
        {
          "data": {
            "text/plain": [
              "array(['Electrónicos', 'Muebles', 'Juguetes', 'Electrodomésticos',\n",
              "       'Artículos para el hogar', 'Deportes y diversión', 'Libros',\n",
              "       'Instrumentos musicales'], dtype=object)"
            ]
          },
          "execution_count": 8,
          "metadata": {},
          "output_type": "execute_result"
        }
      ],
      "source": [
        "tienda['Categoría del Producto'].unique()"
      ]
    },
    {
      "cell_type": "code",
      "execution_count": null,
      "metadata": {
        "id": "yZR6cOjXYSk1"
      },
      "outputs": [
        {
          "data": {
            "text/plain": [
              "Categoría del Producto\n",
              "Artículos para el hogar     12698400.0\n",
              "Deportes y diversión        39290000.0\n",
              "Electrodomésticos          363685200.0\n",
              "Electrónicos               429493500.0\n",
              "Instrumentos musicales      91299000.0\n",
              "Juguetes                    17995700.0\n",
              "Libros                       8784900.0\n",
              "Muebles                    187633700.0\n",
              "Name: Precio, dtype: float64"
            ]
          },
          "execution_count": 9,
          "metadata": {},
          "output_type": "execute_result"
        }
      ],
      "source": [
        "# total de venta por producto tienda 1\n",
        "tienda.groupby('Categoría del Producto')['Precio'].sum()"
      ]
    },
    {
      "cell_type": "code",
      "execution_count": null,
      "metadata": {},
      "outputs": [
        {
          "data": {
            "text/html": [
              "<div>\n",
              "<style scoped>\n",
              "    .dataframe tbody tr th:only-of-type {\n",
              "        vertical-align: middle;\n",
              "    }\n",
              "\n",
              "    .dataframe tbody tr th {\n",
              "        vertical-align: top;\n",
              "    }\n",
              "\n",
              "    .dataframe thead th {\n",
              "        text-align: right;\n",
              "    }\n",
              "</style>\n",
              "<table border=\"1\" class=\"dataframe\">\n",
              "  <thead>\n",
              "    <tr style=\"text-align: right;\">\n",
              "      <th></th>\n",
              "      <th>Categoria</th>\n",
              "      <th>Cantidad</th>\n",
              "    </tr>\n",
              "  </thead>\n",
              "  <tbody>\n",
              "    <tr>\n",
              "      <th>0</th>\n",
              "      <td>Muebles</td>\n",
              "      <td>465</td>\n",
              "    </tr>\n",
              "    <tr>\n",
              "      <th>1</th>\n",
              "      <td>Electrónicos</td>\n",
              "      <td>448</td>\n",
              "    </tr>\n",
              "    <tr>\n",
              "      <th>2</th>\n",
              "      <td>Juguetes</td>\n",
              "      <td>324</td>\n",
              "    </tr>\n",
              "    <tr>\n",
              "      <th>3</th>\n",
              "      <td>Electrodomésticos</td>\n",
              "      <td>312</td>\n",
              "    </tr>\n",
              "    <tr>\n",
              "      <th>4</th>\n",
              "      <td>Deportes y diversión</td>\n",
              "      <td>284</td>\n",
              "    </tr>\n",
              "    <tr>\n",
              "      <th>5</th>\n",
              "      <td>Instrumentos musicales</td>\n",
              "      <td>182</td>\n",
              "    </tr>\n",
              "    <tr>\n",
              "      <th>6</th>\n",
              "      <td>Libros</td>\n",
              "      <td>173</td>\n",
              "    </tr>\n",
              "    <tr>\n",
              "      <th>7</th>\n",
              "      <td>Artículos para el hogar</td>\n",
              "      <td>171</td>\n",
              "    </tr>\n",
              "  </tbody>\n",
              "</table>\n",
              "</div>"
            ],
            "text/plain": [
              "                 Categoria  Cantidad\n",
              "0                  Muebles       465\n",
              "1             Electrónicos       448\n",
              "2                 Juguetes       324\n",
              "3        Electrodomésticos       312\n",
              "4     Deportes y diversión       284\n",
              "5   Instrumentos musicales       182\n",
              "6                   Libros       173\n",
              "7  Artículos para el hogar       171"
            ]
          },
          "execution_count": 11,
          "metadata": {},
          "output_type": "execute_result"
        }
      ],
      "source": [
        "# cantidad de productos vendidos por categoria de la tienda 1\n",
        "conteo_T1 = tienda['Categoría del Producto'].value_counts().reset_index()\n",
        "conteo_T1.columns = ['Categoria', 'Cantidad']\n",
        "conteo_T1"
      ]
    },
    {
      "cell_type": "code",
      "execution_count": 12,
      "metadata": {},
      "outputs": [
        {
          "data": {
            "text/html": [
              "<div>\n",
              "<style scoped>\n",
              "    .dataframe tbody tr th:only-of-type {\n",
              "        vertical-align: middle;\n",
              "    }\n",
              "\n",
              "    .dataframe tbody tr th {\n",
              "        vertical-align: top;\n",
              "    }\n",
              "\n",
              "    .dataframe thead th {\n",
              "        text-align: right;\n",
              "    }\n",
              "</style>\n",
              "<table border=\"1\" class=\"dataframe\">\n",
              "  <thead>\n",
              "    <tr style=\"text-align: right;\">\n",
              "      <th></th>\n",
              "      <th>Categoria</th>\n",
              "      <th>Cantidad</th>\n",
              "    </tr>\n",
              "  </thead>\n",
              "  <tbody>\n",
              "    <tr>\n",
              "      <th>0</th>\n",
              "      <td>Muebles</td>\n",
              "      <td>442</td>\n",
              "    </tr>\n",
              "    <tr>\n",
              "      <th>1</th>\n",
              "      <td>Electrónicos</td>\n",
              "      <td>422</td>\n",
              "    </tr>\n",
              "    <tr>\n",
              "      <th>2</th>\n",
              "      <td>Juguetes</td>\n",
              "      <td>313</td>\n",
              "    </tr>\n",
              "    <tr>\n",
              "      <th>3</th>\n",
              "      <td>Electrodomésticos</td>\n",
              "      <td>305</td>\n",
              "    </tr>\n",
              "    <tr>\n",
              "      <th>4</th>\n",
              "      <td>Deportes y diversión</td>\n",
              "      <td>275</td>\n",
              "    </tr>\n",
              "    <tr>\n",
              "      <th>5</th>\n",
              "      <td>Instrumentos musicales</td>\n",
              "      <td>224</td>\n",
              "    </tr>\n",
              "    <tr>\n",
              "      <th>6</th>\n",
              "      <td>Libros</td>\n",
              "      <td>197</td>\n",
              "    </tr>\n",
              "    <tr>\n",
              "      <th>7</th>\n",
              "      <td>Artículos para el hogar</td>\n",
              "      <td>181</td>\n",
              "    </tr>\n",
              "  </tbody>\n",
              "</table>\n",
              "</div>"
            ],
            "text/plain": [
              "                 Categoria  Cantidad\n",
              "0                  Muebles       442\n",
              "1             Electrónicos       422\n",
              "2                 Juguetes       313\n",
              "3        Electrodomésticos       305\n",
              "4     Deportes y diversión       275\n",
              "5   Instrumentos musicales       224\n",
              "6                   Libros       197\n",
              "7  Artículos para el hogar       181"
            ]
          },
          "execution_count": 12,
          "metadata": {},
          "output_type": "execute_result"
        }
      ],
      "source": [
        "# cantidad de productos vendidos por categoria de la tienda 2\n",
        "conteo_T2 = tienda2['Categoría del Producto'].value_counts().reset_index()\n",
        "conteo_T2.columns = ['Categoria', 'Cantidad']\n",
        "conteo_T2"
      ]
    },
    {
      "cell_type": "code",
      "execution_count": 13,
      "metadata": {},
      "outputs": [
        {
          "data": {
            "text/html": [
              "<div>\n",
              "<style scoped>\n",
              "    .dataframe tbody tr th:only-of-type {\n",
              "        vertical-align: middle;\n",
              "    }\n",
              "\n",
              "    .dataframe tbody tr th {\n",
              "        vertical-align: top;\n",
              "    }\n",
              "\n",
              "    .dataframe thead th {\n",
              "        text-align: right;\n",
              "    }\n",
              "</style>\n",
              "<table border=\"1\" class=\"dataframe\">\n",
              "  <thead>\n",
              "    <tr style=\"text-align: right;\">\n",
              "      <th></th>\n",
              "      <th>Categoria</th>\n",
              "      <th>Cantidad</th>\n",
              "    </tr>\n",
              "  </thead>\n",
              "  <tbody>\n",
              "    <tr>\n",
              "      <th>0</th>\n",
              "      <td>Muebles</td>\n",
              "      <td>499</td>\n",
              "    </tr>\n",
              "    <tr>\n",
              "      <th>1</th>\n",
              "      <td>Electrónicos</td>\n",
              "      <td>451</td>\n",
              "    </tr>\n",
              "    <tr>\n",
              "      <th>2</th>\n",
              "      <td>Juguetes</td>\n",
              "      <td>315</td>\n",
              "    </tr>\n",
              "    <tr>\n",
              "      <th>3</th>\n",
              "      <td>Electrodomésticos</td>\n",
              "      <td>278</td>\n",
              "    </tr>\n",
              "    <tr>\n",
              "      <th>4</th>\n",
              "      <td>Deportes y diversión</td>\n",
              "      <td>277</td>\n",
              "    </tr>\n",
              "    <tr>\n",
              "      <th>5</th>\n",
              "      <td>Libros</td>\n",
              "      <td>185</td>\n",
              "    </tr>\n",
              "    <tr>\n",
              "      <th>6</th>\n",
              "      <td>Instrumentos musicales</td>\n",
              "      <td>177</td>\n",
              "    </tr>\n",
              "    <tr>\n",
              "      <th>7</th>\n",
              "      <td>Artículos para el hogar</td>\n",
              "      <td>177</td>\n",
              "    </tr>\n",
              "  </tbody>\n",
              "</table>\n",
              "</div>"
            ],
            "text/plain": [
              "                 Categoria  Cantidad\n",
              "0                  Muebles       499\n",
              "1             Electrónicos       451\n",
              "2                 Juguetes       315\n",
              "3        Electrodomésticos       278\n",
              "4     Deportes y diversión       277\n",
              "5                   Libros       185\n",
              "6   Instrumentos musicales       177\n",
              "7  Artículos para el hogar       177"
            ]
          },
          "execution_count": 13,
          "metadata": {},
          "output_type": "execute_result"
        }
      ],
      "source": [
        "# cantidad de productos vendidos por categoria de la tienda 3\n",
        "conteo_T3 = tienda3['Categoría del Producto'].value_counts().reset_index()\n",
        "conteo_T3.columns = ['Categoria', 'Cantidad']\n",
        "conteo_T3"
      ]
    },
    {
      "cell_type": "code",
      "execution_count": 14,
      "metadata": {},
      "outputs": [
        {
          "data": {
            "text/html": [
              "<div>\n",
              "<style scoped>\n",
              "    .dataframe tbody tr th:only-of-type {\n",
              "        vertical-align: middle;\n",
              "    }\n",
              "\n",
              "    .dataframe tbody tr th {\n",
              "        vertical-align: top;\n",
              "    }\n",
              "\n",
              "    .dataframe thead th {\n",
              "        text-align: right;\n",
              "    }\n",
              "</style>\n",
              "<table border=\"1\" class=\"dataframe\">\n",
              "  <thead>\n",
              "    <tr style=\"text-align: right;\">\n",
              "      <th></th>\n",
              "      <th>Categoria</th>\n",
              "      <th>Cantidad</th>\n",
              "    </tr>\n",
              "  </thead>\n",
              "  <tbody>\n",
              "    <tr>\n",
              "      <th>0</th>\n",
              "      <td>Muebles</td>\n",
              "      <td>480</td>\n",
              "    </tr>\n",
              "    <tr>\n",
              "      <th>1</th>\n",
              "      <td>Electrónicos</td>\n",
              "      <td>451</td>\n",
              "    </tr>\n",
              "    <tr>\n",
              "      <th>2</th>\n",
              "      <td>Juguetes</td>\n",
              "      <td>338</td>\n",
              "    </tr>\n",
              "    <tr>\n",
              "      <th>3</th>\n",
              "      <td>Deportes y diversión</td>\n",
              "      <td>277</td>\n",
              "    </tr>\n",
              "    <tr>\n",
              "      <th>4</th>\n",
              "      <td>Electrodomésticos</td>\n",
              "      <td>254</td>\n",
              "    </tr>\n",
              "    <tr>\n",
              "      <th>5</th>\n",
              "      <td>Artículos para el hogar</td>\n",
              "      <td>201</td>\n",
              "    </tr>\n",
              "    <tr>\n",
              "      <th>6</th>\n",
              "      <td>Libros</td>\n",
              "      <td>187</td>\n",
              "    </tr>\n",
              "    <tr>\n",
              "      <th>7</th>\n",
              "      <td>Instrumentos musicales</td>\n",
              "      <td>170</td>\n",
              "    </tr>\n",
              "  </tbody>\n",
              "</table>\n",
              "</div>"
            ],
            "text/plain": [
              "                 Categoria  Cantidad\n",
              "0                  Muebles       480\n",
              "1             Electrónicos       451\n",
              "2                 Juguetes       338\n",
              "3     Deportes y diversión       277\n",
              "4        Electrodomésticos       254\n",
              "5  Artículos para el hogar       201\n",
              "6                   Libros       187\n",
              "7   Instrumentos musicales       170"
            ]
          },
          "execution_count": 14,
          "metadata": {},
          "output_type": "execute_result"
        }
      ],
      "source": [
        "# cantidad de productos vendidos por categoria de la tienda 1\n",
        "conteo_T4 = tienda4['Categoría del Producto'].value_counts().reset_index()\n",
        "conteo_T4.columns = ['Categoria', 'Cantidad']\n",
        "conteo_T4"
      ]
    },
    {
      "cell_type": "markdown",
      "metadata": {},
      "source": [
        "> Las 3 categorias mas vendidas de todas las tiendas son: Muebles, electronicos y juguetes unidades.\n",
        "\n",
        "> La tienda 3 posee mayor cantidad de ventas de muebles con un total de 499 unidades.\n",
        "\n",
        "> Las tiendas 3 y 4 han vendido mayor cantidad de electronico con un total de 451 unidades.\n",
        "\n",
        "> La tienda 4 ha vendido mayor cantidad de juguetes con un total de 338 unidades"
      ]
    },
    {
      "cell_type": "markdown",
      "metadata": {
        "id": "Rq6tU_xSY3jk"
      },
      "source": [
        "# 3. Calificación promedio de la tienda\n"
      ]
    },
    {
      "cell_type": "code",
      "execution_count": null,
      "metadata": {},
      "outputs": [
        {
          "data": {
            "text/plain": [
              "array([4, 1, 5, 3, 2])"
            ]
          },
          "execution_count": 19,
          "metadata": {},
          "output_type": "execute_result"
        }
      ],
      "source": [
        "# valores de la columna calificacion\n",
        "tienda['Calificación'].unique()"
      ]
    },
    {
      "cell_type": "code",
      "execution_count": 15,
      "metadata": {
        "id": "bh3jjjJwY5MU"
      },
      "outputs": [
        {
          "data": {
            "text/plain": [
              "3.976685036032217"
            ]
          },
          "execution_count": 15,
          "metadata": {},
          "output_type": "execute_result"
        }
      ],
      "source": [
        "cal_prom_T1 = tienda['Calificación'].mean()\n",
        "cal_prom_T1"
      ]
    },
    {
      "cell_type": "code",
      "execution_count": 16,
      "metadata": {
        "id": "I0KkjPoTY88F"
      },
      "outputs": [
        {
          "data": {
            "text/plain": [
              "4.037303942348453"
            ]
          },
          "execution_count": 16,
          "metadata": {},
          "output_type": "execute_result"
        }
      ],
      "source": [
        "cal_prom_T2 = tienda2['Calificación'].mean()\n",
        "cal_prom_T2"
      ]
    },
    {
      "cell_type": "code",
      "execution_count": 17,
      "metadata": {},
      "outputs": [
        {
          "data": {
            "text/plain": [
              "4.048325561678677"
            ]
          },
          "execution_count": 17,
          "metadata": {},
          "output_type": "execute_result"
        }
      ],
      "source": [
        "cal_prom_T3 = tienda3['Calificación'].mean()\n",
        "cal_prom_T3"
      ]
    },
    {
      "cell_type": "code",
      "execution_count": 18,
      "metadata": {},
      "outputs": [
        {
          "data": {
            "text/plain": [
              "3.9957591178965224"
            ]
          },
          "execution_count": 18,
          "metadata": {},
          "output_type": "execute_result"
        }
      ],
      "source": [
        "cal_prom_T4 = tienda4['Calificación'].mean()\n",
        "cal_prom_T4"
      ]
    },
    {
      "cell_type": "markdown",
      "metadata": {},
      "source": [
        "> La mayoria de las tiendas promedian una calificacion aproximada de 4.\n",
        "\n",
        "> La tienda con la mejor calificacion es la 3 con un promedio de 4.04.\n",
        "\n",
        "> La tienda con el peor calificacion es la 1 con un promedio de 3.97."
      ]
    },
    {
      "cell_type": "markdown",
      "metadata": {
        "id": "DmNp1KPBZCm-"
      },
      "source": [
        "# 4. Productos más y menos vendidos"
      ]
    },
    {
      "cell_type": "code",
      "execution_count": 25,
      "metadata": {
        "id": "qoyjqijQZHfF"
      },
      "outputs": [
        {
          "data": {
            "image/png": "[encoded data removed]",
            "text/plain": [
              "<Figure size 720x504 with 1 Axes>"
            ]
          },
          "metadata": {
            "needs_background": "light"
          },
          "output_type": "display_data"
        }
      ],
      "source": [
        "import seaborn as sns\n",
        "import matplotlib.pyplot as plt\n",
        "\n",
        "plt.figure(figsize=(10,7))\n",
        "sns.barplot(data=conteo_T1, y='Categoria', x='Cantidad', palette='Set2')\n",
        "plt.title('Cantidad de productos vendidos por categoria. Tienda 1', fontsize=14, fontweight='bold')\n",
        "plt.ylabel('Categoria')\n",
        "plt.xlabel('Cantidad')\n",
        "plt.show()"
      ]
    },
    {
      "cell_type": "code",
      "execution_count": 26,
      "metadata": {
        "id": "0Sw3sd4IZIGW"
      },
      "outputs": [
        {
          "data": {
            "image/png": "[encoded data removed]",
            "text/plain": [
              "<Figure size 720x504 with 1 Axes>"
            ]
          },
          "metadata": {
            "needs_background": "light"
          },
          "output_type": "display_data"
        }
      ],
      "source": [
        "import seaborn as sns\n",
        "import matplotlib.pyplot as plt\n",
        "\n",
        "plt.figure(figsize=(10,7))\n",
        "sns.barplot(data=conteo_T2, y='Categoria', x='Cantidad', palette='Set2')\n",
        "plt.title('Cantidad de productos vendidos por categoria. Tienda 2', fontsize=14, fontweight='bold')\n",
        "plt.ylabel('Categoria')\n",
        "plt.xlabel('Cantidad')\n",
        "plt.show()"
      ]
    },
    {
      "cell_type": "code",
      "execution_count": 27,
      "metadata": {},
      "outputs": [
        {
          "data": {
            "image/png": "[encoded data removed]",
            "text/plain": [
              "<Figure size 720x504 with 1 Axes>"
            ]
          },
          "metadata": {
            "needs_background": "light"
          },
          "output_type": "display_data"
        }
      ],
      "source": [
        "import seaborn as sns\n",
        "import matplotlib.pyplot as plt\n",
        "\n",
        "plt.figure(figsize=(10,7))\n",
        "sns.barplot(data=conteo_T3, y='Categoria', x='Cantidad', palette='Set2')\n",
        "plt.title('Cantidad de productos vendidos por categoria. Tienda 3', fontsize=14, fontweight='bold')\n",
        "plt.ylabel('Categoria')\n",
        "plt.xlabel('Cantidad')\n",
        "plt.show()"
      ]
    },
    {
      "cell_type": "code",
      "execution_count": 28,
      "metadata": {},
      "outputs": [
        {
          "data": {
            "image/png": "[encoded data removed]",
            "text/plain": [
              "<Figure size 720x504 with 1 Axes>"
            ]
          },
          "metadata": {
            "needs_background": "light"
          },
          "output_type": "display_data"
        }
      ],
      "source": [
        "import seaborn as sns\n",
        "import matplotlib.pyplot as plt\n",
        "\n",
        "plt.figure(figsize=(10,7))\n",
        "sns.barplot(data=conteo_T4, y='Categoria', x='Cantidad', palette='Set2')\n",
        "plt.title('Cantidad de productos vendidos por categoria. Tienda 4', fontsize=14, fontweight='bold')\n",
        "plt.ylabel('Categoria')\n",
        "plt.xlabel('Cantidad')\n",
        "plt.show()"
      ]
    },
    {
      "cell_type": "markdown",
      "metadata": {},
      "source": [
        "> Los productos mas vendidos de todas las tiendas pertenecen a la categoria Muebles.\n",
        "\n",
        "> Los productos menos vendidos en las tiendas 1, 2 y 4 son los que pertenecen a los Instrumentos Musicales. \n",
        "\n",
        "> Los productos menos vendidos en la tienda 3 son los Articulos para el Hogar."
      ]
    },
    {
      "cell_type": "markdown",
      "metadata": {
        "id": "Fl0cGi3bZKqU"
      },
      "source": [
        "# 5. Envío promedio por tienda"
      ]
    },
    {
      "cell_type": "code",
      "execution_count": 29,
      "metadata": {
        "id": "S2JeaCykZNy9"
      },
      "outputs": [
        {
          "data": {
            "text/plain": [
              "26018.60958033065"
            ]
          },
          "execution_count": 29,
          "metadata": {},
          "output_type": "execute_result"
        }
      ],
      "source": [
        "cost_T1 = tienda['Costo de envío'].mean()\n",
        "cost_T1"
      ]
    },
    {
      "cell_type": "code",
      "execution_count": 30,
      "metadata": {
        "id": "0tSdCie9ZQlt"
      },
      "outputs": [
        {
          "data": {
            "text/plain": [
              "25216.235693090293"
            ]
          },
          "execution_count": 30,
          "metadata": {},
          "output_type": "execute_result"
        }
      ],
      "source": [
        "cost_T2 = tienda2['Costo de envío'].mean()\n",
        "cost_T2"
      ]
    },
    {
      "cell_type": "code",
      "execution_count": 31,
      "metadata": {},
      "outputs": [
        {
          "data": {
            "text/plain": [
              "24805.680373039424"
            ]
          },
          "execution_count": 31,
          "metadata": {},
          "output_type": "execute_result"
        }
      ],
      "source": [
        "cost_T3 = tienda3['Costo de envío'].mean()\n",
        "cost_T3"
      ]
    },
    {
      "cell_type": "code",
      "execution_count": 32,
      "metadata": {},
      "outputs": [
        {
          "data": {
            "text/plain": [
              "23459.457167090754"
            ]
          },
          "execution_count": 32,
          "metadata": {},
          "output_type": "execute_result"
        }
      ],
      "source": [
        "cost_T4 = tienda4['Costo de envío'].mean()\n",
        "cost_T4"
      ]
    },
    {
      "cell_type": "markdown",
      "metadata": {},
      "source": [
        "> La tienda que mayor gasto tiene por costo de envio es la 1.\n",
        "\n",
        "> La tienda que menor gasto tiene por costo de envio es la 4.\n",
        "\n",
        "> El rango de gasto en promedio de todas las tiendas va entre 2300 y 2700."
      ]
    },
    {
      "cell_type": "markdown",
      "metadata": {},
      "source": [
        "# 6. Visualizaciones"
      ]
    },
    {
      "cell_type": "markdown",
      "metadata": {},
      "source": [
        "### 6.1 Grafico de Pie del ingreso total por tienda"
      ]
    },
    {
      "cell_type": "code",
      "execution_count": 43,
      "metadata": {},
      "outputs": [
        {
          "data": {
            "image/png": "[encoded data removed]",
            "text/plain": [
              "<Figure size 576x576 with 1 Axes>"
            ]
          },
          "metadata": {},
          "output_type": "display_data"
        }
      ],
      "source": [
        "plt.figure(figsize=(8,8))\n",
        "plt.pie(ingresos_tienda_df['Ingreso_Total'], labels=ingresos_tienda_df['Tiendas'], autopct='%1.1f%%', startangle=90)\n",
        "plt.title('Ingreso por cada tienda', fontsize=14, fontweight='bold')\n",
        "plt.axis('equal')\n",
        "plt.show()"
      ]
    },
    {
      "cell_type": "markdown",
      "metadata": {},
      "source": [
        "> La grafica nos muestra porcentajes del total de venta muy similares entre las tiendas.\n",
        "\n",
        "> La tienda 1 es la que mayor porcentaje de ventas posee."
      ]
    }
  ],
  "metadata": {
    "colab": {
      "provenance": []
    },
    "kernelspec": {
      "display_name": "data",
      "language": "python",
      "name": "python3"
    },
    "language_info": {
      "codemirror_mode": {
        "name": "ipython",
        "version": 3
      },
      "file_extension": ".py",
      "mimetype": "text/x-python",
      "name": "python",
      "nbconvert_exporter": "python",
      "pygments_lexer": "ipython3",
      "version": "3.10.8"
    }
  },
  "nbformat": 4,
  "nbformat_minor": 0
}
